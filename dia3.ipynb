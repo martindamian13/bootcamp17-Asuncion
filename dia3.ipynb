{
 "cells": [
  {
   "attachments": {},
   "cell_type": "markdown",
   "metadata": {},
   "source": [
    "# Dia 3 "
   ]
  },
  {
   "cell_type": "code",
   "execution_count": 2,
   "metadata": {},
   "outputs": [
    {
     "name": "stdout",
     "output_type": "stream",
     "text": [
      "Buenos dias a todos! \n"
     ]
    }
   ],
   "source": [
    "# Funciones\n",
    "def imprimir_saludo():\n",
    "    print(\"Buenos dias a todos! \")\n",
    "\n",
    "imprimir_saludo()\n"
   ]
  },
  {
   "cell_type": "code",
   "execution_count": 3,
   "metadata": {},
   "outputs": [
    {
     "name": "stdout",
     "output_type": "stream",
     "text": [
      "Hola Martin, como estas?\n"
     ]
    }
   ],
   "source": [
    "# Funciones con variables locales\n",
    "\n",
    "def saludo_personal ():\n",
    "    nombre = input(\"Ingrese un nombre\")\n",
    "    print(f\"Hola {nombre}, como estas?\")\n",
    "\n",
    "saludo_personal()\n",
    "print(f\"Tenes hambre {nombre}? \")"
   ]
  },
  {
   "cell_type": "code",
   "execution_count": 6,
   "metadata": {},
   "outputs": [
    {
     "name": "stdout",
     "output_type": "stream",
     "text": [
      "Hola Martin, como estas?\n"
     ]
    }
   ],
   "source": [
    "def saludo_personal (nombre):\n",
    "    print(f\"Hola {nombre}, como estas?\")\n",
    "\n",
    "name = input(\"Ingrese un nombre\")\n",
    "saludo_personal(name)"
   ]
  },
  {
   "attachments": {},
   "cell_type": "markdown",
   "metadata": {},
   "source": [
    "## Challenge 1 🤺 - 15m\n",
    "\n",
    "Crear una función que imprima la variable palabra sin parametros y argumentos"
   ]
  },
  {
   "cell_type": "code",
   "execution_count": 7,
   "metadata": {},
   "outputs": [
    {
     "name": "stdout",
     "output_type": "stream",
     "text": [
      "hola\n"
     ]
    }
   ],
   "source": [
    "def challenge():\n",
    "    palabra = input(\"Ingresa una palabra\")\n",
    "    print(palabra)\n",
    "\n",
    "challenge()"
   ]
  },
  {
   "cell_type": "code",
   "execution_count": 8,
   "metadata": {},
   "outputs": [
    {
     "name": "stdout",
     "output_type": "stream",
     "text": [
      "hola\n"
     ]
    }
   ],
   "source": [
    "def challenge():\n",
    "    print(palabra)\n",
    "\n",
    "palabra = input()\n",
    "challenge()"
   ]
  },
  {
   "attachments": {},
   "cell_type": "markdown",
   "metadata": {},
   "source": [
    "## Challenge - 20min\n",
    "\n",
    "Crear una función que reciba dos parámetros (una palabra y una frase), y que imprima la frase y la palabra concatenadas. \n",
    "\n",
    "Ejemplo del print que buscamos: La frase es {frase} y la palabra es {palabra}\n",
    "\n",
    "- Pedir al usuario la frase y palabra"
   ]
  },
  {
   "attachments": {},
   "cell_type": "markdown",
   "metadata": {},
   "source": [
    "# Solucion de Nathy 🥑"
   ]
  },
  {
   "cell_type": "code",
   "execution_count": 9,
   "metadata": {},
   "outputs": [
    {
     "name": "stdout",
     "output_type": "stream",
     "text": [
      "La frase es Carpe diem y la palabra es Ohana\n"
     ]
    }
   ],
   "source": [
    "def imprimir (frase, palabra): \n",
    "    print (f\"La frase es {frase} y la palabra es {palabra}\")\n",
    "\n",
    "imprimir(frase=input(\"Ingrese una frase\"),palabra=input(\"Ingrese una palabra\"))"
   ]
  },
  {
   "attachments": {},
   "cell_type": "markdown",
   "metadata": {},
   "source": [
    "# Solucion de Andrea 🥸"
   ]
  },
  {
   "cell_type": "code",
   "execution_count": 10,
   "metadata": {},
   "outputs": [
    {
     "name": "stdout",
     "output_type": "stream",
     "text": [
      "Mi nombre es Andrea. Mi actividad favorita es Ver peliculas.\n"
     ]
    }
   ],
   "source": [
    "def frase_palabra(palabra, frase) :\n",
    "    print(f\"Mi nombre es {palabra}.\" +  f\" Mi actividad favorita es {frase}.\")\n",
    "\n",
    "nombre = input(\"Ingrese su nombre.\")\n",
    "hobby = input(\"Describa su actividad preferida.\")\n",
    "\n",
    "frase_palabra(nombre, hobby)"
   ]
  },
  {
   "attachments": {},
   "cell_type": "markdown",
   "metadata": {},
   "source": [
    "# return"
   ]
  },
  {
   "cell_type": "code",
   "execution_count": 15,
   "metadata": {},
   "outputs": [
    {
     "name": "stdout",
     "output_type": "stream",
     "text": [
      "12\n"
     ]
    }
   ],
   "source": [
    "# En vez de imprimir el resultado lo retornamos para hacer algo con el resultado\n",
    "def suma(a, b):\n",
    "    resultado = a + b\n",
    "    return resultado\n",
    "\n",
    "def resta(a, b):\n",
    "    resultado = a - b\n",
    "    return resultado\n",
    "    \n",
    "\n",
    "total = suma(5,6) + resta(4,3)\n",
    "print(total)"
   ]
  },
  {
   "cell_type": "code",
   "execution_count": 18,
   "metadata": {},
   "outputs": [
    {
     "name": "stdout",
     "output_type": "stream",
     "text": [
      "No son iguales\n",
      "False\n"
     ]
    }
   ],
   "source": [
    "def igualdad(x, y):\n",
    "    if x == y:\n",
    "        print(\"Son iguales\")\n",
    "        return True\n",
    "    else: \n",
    "        print(\"No son iguales\")\n",
    "        return False\n",
    "    \n",
    "print(igualdad(3,2))"
   ]
  },
  {
   "attachments": {},
   "cell_type": "markdown",
   "metadata": {},
   "source": [
    "## Challenge - 15 minutos\n",
    "Crear una función que reciba dos letras (parámetros) y que verifique si son iguales:\n",
    "\n",
    "1. Si son iguales, retornar True \n",
    "\n",
    "2. De lo contrario, retornar False \n"
   ]
  },
  {
   "attachments": {},
   "cell_type": "markdown",
   "metadata": {},
   "source": [
    "# Solucion de Emilio 😼"
   ]
  },
  {
   "cell_type": "code",
   "execution_count": 21,
   "metadata": {},
   "outputs": [
    {
     "data": {
      "text/plain": [
       "True"
      ]
     },
     "execution_count": 21,
     "metadata": {},
     "output_type": "execute_result"
    }
   ],
   "source": [
    "def comp(l1,l2): #Se define la función comp\n",
    "    if (l1==l2):\n",
    "        return True\n",
    "    else:\n",
    "        return False\n",
    "l1=input(\"Ingrese una letra\") #Sepide ingresar las letras \n",
    "l2=input(\"Ingrese otra letra\")\n",
    "comp(l1,l2) #Se llama a la función"
   ]
  },
  {
   "attachments": {},
   "cell_type": "markdown",
   "metadata": {},
   "source": [
    "# Solucion de Gloria 🖤"
   ]
  },
  {
   "cell_type": "code",
   "execution_count": 27,
   "metadata": {},
   "outputs": [
    {
     "name": "stdout",
     "output_type": "stream",
     "text": [
      "son iguales\n",
      "True\n"
     ]
    }
   ],
   "source": [
    "def igualdad(a,b): #crear una funcion\n",
    "    if a == b:\n",
    "        print(\"son iguales\") #imprimir\n",
    "        return True          #retornar\n",
    "    else:\n",
    "        print(\"son diferentes\")\n",
    "        return False\n",
    "print(igualdad (\"a\" ,\"a\"))\n"
   ]
  },
  {
   "cell_type": "code",
   "execution_count": 32,
   "metadata": {},
   "outputs": [
    {
     "name": "stdout",
     "output_type": "stream",
     "text": [
      "True\n"
     ]
    }
   ],
   "source": [
    "def comparacion(letra1, letra2):\n",
    "    return letra1 == letra2\n",
    "\n",
    "print(comparacion('a', 'a'))"
   ]
  },
  {
   "attachments": {},
   "cell_type": "markdown",
   "metadata": {},
   "source": [
    "## Challenge \n",
    "\n",
    "Crear una función que reciba dos parámetros (una palabra y un número), y que devuelva `True` si el número es igual a la cantidad de letras de la palabra. En caso contrario, que devuelva `False`.\n",
    "\n",
    "Pista: `cantidad de letras de una palabra en python se puede obtener con len()`"
   ]
  },
  {
   "attachments": {},
   "cell_type": "markdown",
   "metadata": {},
   "source": [
    "# Solucion de Quaid 🍄"
   ]
  },
  {
   "cell_type": "code",
   "execution_count": 33,
   "metadata": {},
   "outputs": [
    {
     "name": "stdout",
     "output_type": "stream",
     "text": [
      "Otra vez!\n",
      "Correcto! gato tiene 4 letras!\n",
      "True\n"
     ]
    }
   ],
   "source": [
    "palabra = input(\"algo\")\n",
    "numero = int(input(\"numero\"))\n",
    "\n",
    "def comparación(palabra, numero):\n",
    "    while True:\n",
    "        if len(palabra) == numero:\n",
    "            print(f\"Correcto! {palabra} tiene {numero} letras!\")\n",
    "            return True\n",
    "        else:\n",
    "            print(\"Otra vez!\")\n",
    "            numero = int(input(\"numero\"))\n",
    "\n",
    "print(comparación(palabra, numero))"
   ]
  },
  {
   "attachments": {},
   "cell_type": "markdown",
   "metadata": {},
   "source": [
    "# Solucion de Luis 🤴🏽"
   ]
  },
  {
   "cell_type": "code",
   "execution_count": 36,
   "metadata": {},
   "outputs": [
    {
     "name": "stdout",
     "output_type": "stream",
     "text": [
      "True\n"
     ]
    }
   ],
   "source": [
    "def cerveza (a, b):\n",
    "    if len(a)==b:\n",
    "        return True\n",
    "    else:\n",
    "        return False\n",
    "a = input(\"Escribir una palabra papu\")\n",
    "b = int(input(\"Escribi un numero papu\"))\n",
    "print(cerveza(a,b))"
   ]
  },
  {
   "cell_type": "code",
   "execution_count": 39,
   "metadata": {},
   "outputs": [
    {
     "name": "stdout",
     "output_type": "stream",
     "text": [
      "False\n"
     ]
    }
   ],
   "source": [
    "existe_en = (\"h\" in \"hola\")\n",
    "print(existe_en)"
   ]
  },
  {
   "attachments": {},
   "cell_type": "markdown",
   "metadata": {},
   "source": [
    "## Challenge  - 20min\n",
    "\n",
    "Crear función que revise si una palabra contiene una letra. En caso de que la contenga, retornar la letra entre corchetes `[]`. De lo contrario, retornar solo la letra. \n",
    "\n",
    "EJEMPLO: \n",
    "\n",
    "palabra hola letra h  ->  [ h ]\n",
    "\n",
    "palabra hola letra e ->   e"
   ]
  },
  {
   "attachments": {},
   "cell_type": "markdown",
   "metadata": {},
   "source": [
    "# Solucion de Enzo 😎"
   ]
  },
  {
   "cell_type": "code",
   "execution_count": 45,
   "metadata": {},
   "outputs": [
    {
     "name": "stdout",
     "output_type": "stream",
     "text": [
      "[h]\n"
     ]
    }
   ],
   "source": [
    "x = input(\"Ingrese una palabra\") \n",
    "y = input(\"Ingrese una letra\")\n",
    "\n",
    "encontrar_en = (y in x)\n",
    "\n",
    "def revisar(palabra,letra):\n",
    "    if encontrar_en == True:\n",
    "        return '[' + y + ']'  # \"[h]\"\n",
    "    else:\n",
    "        return y\n",
    "\n",
    "print(revisar(x, y))"
   ]
  },
  {
   "attachments": {},
   "cell_type": "markdown",
   "metadata": {},
   "source": [
    "# Solucion de David 🍝"
   ]
  },
  {
   "cell_type": "code",
   "execution_count": 43,
   "metadata": {},
   "outputs": [
    {
     "name": "stdout",
     "output_type": "stream",
     "text": [
      "[e]\n"
     ]
    }
   ],
   "source": [
    "def verificador_de_letra(palabra,letra):\n",
    "    if letra in palabra:\n",
    "        return f\"[{letra}]\"\n",
    "    else:\n",
    "        return letra\n",
    "print(verificador_de_letra(\"elefante\", \"e\"))"
   ]
  },
  {
   "attachments": {},
   "cell_type": "markdown",
   "metadata": {},
   "source": [
    "# Solucion de Jean 👖"
   ]
  },
  {
   "cell_type": "code",
   "execution_count": 48,
   "metadata": {},
   "outputs": [
    {
     "name": "stdout",
     "output_type": "stream",
     "text": [
      "[h] jajaja\n"
     ]
    }
   ],
   "source": [
    "palabra = input (\"ingrese palabra\")\n",
    "letra = input (\"letra\")\n",
    "def revisar ( palabra , letra):\n",
    "    if letra in palabra:\n",
    "        return (f\"[{letra}]\")\n",
    "    else:\n",
    "        return (letra)\n",
    "print(revisar(palabra,letra) + \" jajaja\" )"
   ]
  },
  {
   "attachments": {},
   "cell_type": "markdown",
   "metadata": {},
   "source": [
    "# Funciones Built-in"
   ]
  },
  {
   "cell_type": "code",
   "execution_count": 52,
   "metadata": {},
   "outputs": [
    {
     "name": "stdout",
     "output_type": "stream",
     "text": [
      "Hola mundo\n",
      "Hello world\n",
      "['H', 'o', 'l', 'a', ' ', 'm', 'u', 'n', 'd', 'o']\n",
      "['H', 'e', 'l', 'l', 'o', ' ', 'w', 'o', 'r', 'l', 'd']\n",
      "[['H', 'o', 'l', 'a', ' ', 'm', 'u', 'n', 'd', 'o'], ['H', 'e', 'l', 'l', 'o', ' ', 'w', 'o', 'r', 'l', 'd']]\n",
      "[['H', 'o', 'l', 'a', ' ', 'm', 'u', 'n', 'd', 'o'], ['H', 'e', 'l', 'l', 'o', ' ', 'w', 'o', 'r', 'l', 'd'], 'Hallo Welt']\n"
     ]
    }
   ],
   "source": [
    "# print \n",
    "# len\n",
    "# input\n",
    "# int\n",
    "# range\n",
    "\n",
    "# list -> Convierte datos a lista\n",
    "mensaje = \"Hola mundo\"\n",
    "mensaje_2 = \"Hello world\"\n",
    "mensaje_3 = \"Hallo Welt\"\n",
    "print(mensaje)\n",
    "print(mensaje_2)\n",
    "\n",
    "lista_mensaje = list(mensaje)\n",
    "lista_mensaje_2 = list(mensaje_2)\n",
    "lista_mensaje_3 = list(mensaje_3)\n",
    "print(lista_mensaje)\n",
    "print(lista_mensaje_2)\n",
    "\n",
    "lista_palabras = [lista_mensaje, lista_mensaje_2]\n",
    "print(lista_palabras)\n",
    "\n",
    "lista_palabras.append(mensaje_3)\n",
    "print(lista_palabras)\n"
   ]
  },
  {
   "attachments": {},
   "cell_type": "markdown",
   "metadata": {},
   "source": [
    "## Challenge 5 🤺 - 20m\n",
    "\n",
    "Pedir al usuario que ingrese 1 palabra, luego convertir esa palabra a una lista con sus caracteres con `list()`. Agregar esa lista de caracteres a una lista llamada `palabras_ingresadas`. Repetir el proceso 3 veces. Cada vez que se agregue una lista de caracteres, imprimir la lista `palabras_ingresadas`.\n",
    "\n",
    "\n",
    "Ejemplo del resultado esperado:\n",
    "\n",
    "```[['c', 'i', 'e', 'l', 'o']]``` # Al ingresar la primera palabra\n",
    "\n",
    "```[['c', 'i', 'e', 'l', 'o'], ['c', 'a', 'l', 'o', 'r']]``` # Al ingresar la segunda palabra\n",
    "\n",
    "```[['c', 'i', 'e', 'l', 'o'], ['c', 'a', 'l', 'o', 'r'], ['n', 'u', 'b', 'e', 's']]``` # Al ingresar la tercera palabra"
   ]
  },
  {
   "attachments": {},
   "cell_type": "markdown",
   "metadata": {},
   "source": [
    "# Solucion de Olga 🥦"
   ]
  },
  {
   "cell_type": "code",
   "execution_count": 53,
   "metadata": {},
   "outputs": [
    {
     "name": "stdout",
     "output_type": "stream",
     "text": [
      "[['c', 'i', 'e', 'l', 'o']]\n",
      "[['c', 'i', 'e', 'l', 'o'], ['c', 'a', 'l', 'o', 'r']]\n",
      "[['c', 'i', 'e', 'l', 'o'], ['c', 'a', 'l', 'o', 'r'], ['n', 'u', 'b', 'e', 's']]\n"
     ]
    }
   ],
   "source": [
    "lista_aux=[]\n",
    "for i in range(1,4):\n",
    "    word=input(\"Ingresa una palabra\")\n",
    "    lista_1=list(word)\n",
    "    lista_aux.append(lista_1) \n",
    "    print(lista_aux)"
   ]
  },
  {
   "attachments": {},
   "cell_type": "markdown",
   "metadata": {},
   "source": [
    "# Solucion de Mara 🥲"
   ]
  },
  {
   "cell_type": "code",
   "execution_count": 54,
   "metadata": {},
   "outputs": [
    {
     "name": "stdout",
     "output_type": "stream",
     "text": [
      "[['c', 'i', 'e', 'l', 'o']]\n",
      "[['c', 'i', 'e', 'l', 'o'], ['c', 'a', 'l', 'o', 'r']]\n",
      "[['c', 'i', 'e', 'l', 'o'], ['c', 'a', 'l', 'o', 'r'], ['n', 'u', 'b', 'e', 's']]\n"
     ]
    }
   ],
   "source": [
    "palabra1 = input(\"Ingrese una palabra:\")\n",
    "palabra2 = input (\"Ingrese una segunda palabra:\")\n",
    "palabra3 = input (\"Ingrese una tercera palabra:\")\n",
    "\n",
    "\n",
    "palabrasingresadas = []\n",
    "\n",
    "lista1 = list(palabra1)\n",
    "\n",
    "palabrasingresadas.append (lista1)\n",
    "\n",
    "print(palabrasingresadas)\n",
    "\n",
    "#---------------------------------------\n",
    "\n",
    "lista2 = list(palabra2)\n",
    "\n",
    "palabrasingresadas.append (lista2)\n",
    "\n",
    "print(palabrasingresadas)\n",
    "\n",
    "#--------------------------------------\n",
    "\n",
    "lista3 = list(palabra3)\n",
    "\n",
    "palabrasingresadas.append (lista3)\n",
    "\n",
    "print (palabrasingresadas)"
   ]
  },
  {
   "attachments": {},
   "cell_type": "markdown",
   "metadata": {},
   "source": [
    "# Solucion de Jacky ⛄️"
   ]
  },
  {
   "cell_type": "code",
   "execution_count": 55,
   "metadata": {},
   "outputs": [
    {
     "name": "stdout",
     "output_type": "stream",
     "text": [
      "[['c', 'i', 'e', 'l', 'o']]\n",
      "[['c', 'i', 'e', 'l', 'o'], ['c', 'a', 'l', 'o', 'r']]\n",
      "[['c', 'i', 'e', 'l', 'o'], ['c', 'a', 'l', 'o', 'r'], ['n', 'u', 'b', 'e', 's']]\n"
     ]
    }
   ],
   "source": [
    "palabras_ingresadas = []\n",
    "conteo = 0\n",
    "while conteo < 3:\n",
    "\n",
    "    palabra = input(\"Ingresa una palabra\")\n",
    "    lista_palabra = list(palabra)\n",
    "    palabras_ingresadas.append(lista_palabra)\n",
    "\n",
    "    print(palabras_ingresadas)\n",
    "    conteo += 1"
   ]
  },
  {
   "cell_type": "code",
   "execution_count": 56,
   "metadata": {},
   "outputs": [
    {
     "name": "stdout",
     "output_type": "stream",
     "text": [
      "['c', 'i', 'e', 'l', 'o']\n",
      "['c', 'a', 'l', 'o', 'r']\n",
      "['n', 'u', 'b', 'e', 's']\n"
     ]
    }
   ],
   "source": [
    "for palabras in palabras_ingresadas:\n",
    "    print(palabras)"
   ]
  },
  {
   "attachments": {},
   "cell_type": "markdown",
   "metadata": {},
   "source": [
    "## Funcion Verificadora \n",
    "\n",
    "Acercandonos un poco más a nuestro juego, vamos a ver cual es el proceso cada vez que se ingresa una palabra\n",
    "\n",
    "- Crear una lista vacía `letras_verificadas` para las letras de la palabra luego de ser verificada\n",
    "- Definir la cantidad de letras de la palabra a encontrar\n",
    "- Si las letras existen en la palabra a encontrar y sus posiciones coinciden: encerrar en corchetes `[]` y agregar al resultado\n",
    "- Si las letras existen en la palabra a encontrar pero sus posiciones no coinciden: encerrar en parentesis `()` y agregar al resultado\n",
    "- Si no se cumple ninguna de las anteriores, agregar la letra a la lista vacía sin modificaciones\n",
    "- Retornar el resultado"
   ]
  },
  {
   "cell_type": "code",
   "execution_count": 61,
   "metadata": {},
   "outputs": [
    {
     "data": {
      "text/plain": [
       "['p', '(e)', 'r', 'r', '[o]']"
      ]
     },
     "execution_count": 61,
     "metadata": {},
     "output_type": "execute_result"
    }
   ],
   "source": [
    "def verificador(palabra_ingresada, palabra_secreta):\n",
    "\n",
    "    # Creamos una lista vacia\n",
    "    letras_verificadas = []\n",
    "\n",
    "    # Cantidad de letras de la palabra a encontrar\n",
    "    cantidad_de_letras = len(palabra_secreta)\n",
    "\n",
    "    for posicion in range(cantidad_de_letras):\n",
    "        # Verificar si existe la letra en la palabra\n",
    "        letra_existe = palabra_ingresada[posicion] in palabra_secreta\n",
    "\n",
    "        # Verificar si las posiciones coinciden\n",
    "        letra_coincide = palabra_ingresada[posicion] == palabra_secreta[posicion]\n",
    "\n",
    "        if letra_coincide and letra_existe:\n",
    "            letras_verificadas.append(\"[\" + palabra_ingresada[posicion] + \"]\")\n",
    "        elif letra_existe and not letra_coincide:\n",
    "            letras_verificadas.append(\"(\" + palabra_ingresada[posicion] + \")\")\n",
    "        else:\n",
    "            letras_verificadas.append(palabra_ingresada[posicion])\n",
    "\n",
    "    return letras_verificadas\n",
    "\n",
    "verificador(\"perro\", \"hielo\")\n"
   ]
  },
  {
   "cell_type": "code",
   "execution_count": 64,
   "metadata": {},
   "outputs": [
    {
     "name": "stdout",
     "output_type": "stream",
     "text": [
      "Te quedan 6 intentos. \n",
      "Te quedan 5 intentos. \n",
      "Te quedan 4 intentos. \n",
      "Te quedan 3 intentos. \n",
      "Te quedan 2 intentos. \n",
      "Te quedan 1 intentos. \n",
      "Perdiste, perdiste, no hay nadie peor que vos! :P \n"
     ]
    }
   ],
   "source": [
    "intentos = 6 \n",
    "\n",
    "while intentos > 0:\n",
    "    print(f\"Te quedan {intentos} intentos. \")\n",
    "    ingrese_una_palabra = input(\"Ingresa una palabra\")\n",
    "    intentos -= 1\n",
    "\n",
    "print(\"Perdiste, perdiste, no hay nadie peor que vos! :P \")"
   ]
  },
  {
   "attachments": {},
   "cell_type": "markdown",
   "metadata": {},
   "source": [
    "# ¿Y si unimos todo? 💥💥💥💥💥💥💥 - 1h"
   ]
  },
  {
   "attachments": {},
   "cell_type": "markdown",
   "metadata": {},
   "source": []
  },
  {
   "cell_type": "code",
   "execution_count": 65,
   "metadata": {},
   "outputs": [
    {
     "name": "stdout",
     "output_type": "stream",
     "text": [
      "['v', 'i', 'r', 'u', '[s]']\n",
      "La palabra debe ser de 5 letras. Es el intento 2 de 6\n",
      "['c', 'i', 'e', 'l', '(o)']\n",
      "['(s)', '(o)', 'l', '(a)', '[s]']\n",
      "['c', '[a]', '(s)', '[o]', '[s]']\n",
      "[patos] ¡Felicidades 🙂 Ganaste!\n"
     ]
    }
   ],
   "source": [
    "def verificador(palabra_ingresada, palabra_secreta):\n",
    "\n",
    "    # Creamos una lista vacia\n",
    "    letras_verificadas = []\n",
    "\n",
    "    # Cantidad de letras de la palabra a encontrar\n",
    "    cantidad_de_letras = len(palabra_secreta)\n",
    "\n",
    "\n",
    "    for posicion in range(cantidad_de_letras):\n",
    "        # Verificar si existe la letra en la palabra\n",
    "        letra_existe = palabra_ingresada[posicion] in palabra_secreta\n",
    "\n",
    "        # Verificar si las posiciones coinciden\n",
    "        letra_coincide = palabra_ingresada[posicion] == palabra_secreta[posicion]\n",
    "\n",
    "        if letra_coincide and letra_existe:\n",
    "            letras_verificadas.append(f\"[{palabra_ingresada[posicion]}]\")\n",
    "        elif letra_existe and not letra_coincide:\n",
    "            letras_verificadas.append(f\"({palabra_ingresada[posicion]})\")\n",
    "        else:\n",
    "            letras_verificadas.append(palabra_ingresada[posicion])\n",
    "\n",
    "    return letras_verificadas\n",
    "\n",
    "#verificador(\"perro\", \"hielo\")\n",
    "win=\"patos\"\n",
    "grilla=[]\n",
    "\n",
    "# Armar las palabras dentro de la grilla\n",
    "for i in range(1,7):\n",
    "    word=input(f\"Ingrese una palabra. Es el intento {i} de 6\")\n",
    "      #caso ganador\n",
    "    if word == win:\n",
    "        print(f\"[{word}] ¡Felicidades 🙂 Ganaste!\")\n",
    "        break\n",
    "    #caso cant de letras incorrectas\n",
    "    elif len(word)!=len(win):\n",
    "        print(f\"La palabra debe ser de {len(win)} letras. Es el intento {i} de 6\")\n",
    "    else:\n",
    "        grilla=(verificador(word,win)) \n",
    "        print(grilla)"
   ]
  }
 ],
 "metadata": {
  "kernelspec": {
   "display_name": "Python 3",
   "language": "python",
   "name": "python3"
  },
  "language_info": {
   "codemirror_mode": {
    "name": "ipython",
    "version": 3
   },
   "file_extension": ".py",
   "mimetype": "text/x-python",
   "name": "python",
   "nbconvert_exporter": "python",
   "pygments_lexer": "ipython3",
   "version": "3.11.3"
  },
  "orig_nbformat": 4
 },
 "nbformat": 4,
 "nbformat_minor": 2
}
