{
 "cells": [
  {
   "attachments": {},
   "cell_type": "markdown",
   "metadata": {},
   "source": [
    "# Dia 1 - Bootcamp Junio"
   ]
  },
  {
   "cell_type": "code",
   "execution_count": 23,
   "metadata": {},
   "outputs": [
    {
     "name": "stdout",
     "output_type": "stream",
     "text": [
      "Hola 'mundo'\n",
      "Hola mundo\n",
      "Hello world\n",
      "Hallo welt\n"
     ]
    }
   ],
   "source": [
    "print(\"Hola 'mundo'\")\n",
    "\n",
    "print('Hola mundo' )\n",
    "print('Hello world')\n",
    "print('Hallo welt')"
   ]
  },
  {
   "attachments": {},
   "cell_type": "markdown",
   "metadata": {},
   "source": [
    "# Variables "
   ]
  },
  {
   "cell_type": "code",
   "execution_count": 25,
   "metadata": {},
   "outputs": [
    {
     "name": "stdout",
     "output_type": "stream",
     "text": [
      "Hola mundo\n"
     ]
    }
   ],
   "source": [
    "saludo = \"Hola mundo\" # creo la variable saludo\n",
    "print(saludo) # imprimo la variable\n",
    "\n",
    "# Buenas practicas para crear variables\n",
    "# usar minusculas \n",
    "# usar guion bajo en vez de espacio ej: hola_mundo\n",
    "# No usar palabras reservadas como nombres de variables.\n",
    "# snake_case\n",
    "\n"
   ]
  },
  {
   "cell_type": "code",
   "execution_count": 28,
   "metadata": {},
   "outputs": [
    {
     "name": "stdout",
     "output_type": "stream",
     "text": [
      "banana\n",
      "5\n",
      "manzana\n"
     ]
    }
   ],
   "source": [
    "fruta = \"banana\" # Creamos la variable fruta\n",
    "print(fruta) # imprimimos la variable \n",
    "cantidad_de_frutas = 5 # Creamos una variable numerica\n",
    "print(cantidad_de_frutas) # imprimimos la variable\n",
    "fruta = \"manzana\" # Modificamos la variable ya creada\n",
    "print(fruta) # Imprimimos el valor de la variable"
   ]
  },
  {
   "cell_type": "code",
   "execution_count": 6,
   "metadata": {},
   "outputs": [
    {
     "name": "stdout",
     "output_type": "stream",
     "text": [
      "banana\n",
      "5\n",
      "manzana\n",
      "banana\n"
     ]
    }
   ],
   "source": [
    "# Ejemplo para no perder el valor de fruta\n",
    "fruta = \"banana\"\n",
    "print(fruta)\n",
    "cantidad_de_frutas = 5\n",
    "print(cantidad_de_frutas)\n",
    "# Creamos una segunda variable con nombre similar pero no igual\n",
    "fruta_1 = \"manzana\"\n",
    "print(fruta_1)\n",
    "# imprimimos el valor de la primera variable\n",
    "print(fruta)\n"
   ]
  },
  {
   "attachments": {},
   "cell_type": "markdown",
   "metadata": {},
   "source": [
    "# Tipos de datos"
   ]
  },
  {
   "cell_type": "code",
   "execution_count": 30,
   "metadata": {},
   "outputs": [
    {
     "name": "stdout",
     "output_type": "stream",
     "text": [
      "<class 'str'>\n",
      "<class 'int'>\n",
      "3.93\n",
      "True\n"
     ]
    }
   ],
   "source": [
    "producto = \"manzanas\"  # Tipo texto -> String -> str\n",
    "print(type(producto)) # La funcion type nos devuelve el tipo de dato de la variable\n",
    "\n",
    "cantidad_de_frutas = 30  # Tipo Numero entero -> Integer -> int\n",
    "print(type(cantidad_de_frutas))\n",
    "\n",
    "precio = 3.93 # Tipo Numero decimal -> Floating Number -> float\n",
    "print(precio)\n",
    "\n",
    "sabado_repaso = False # Tipo Booleano -> Boolean -> bool\n",
    "sabado_repaso = True\n",
    "print(sabado_repaso)\n"
   ]
  },
  {
   "attachments": {},
   "cell_type": "markdown",
   "metadata": {},
   "source": [
    "# Operaciones con variables"
   ]
  },
  {
   "cell_type": "code",
   "execution_count": 20,
   "metadata": {},
   "outputs": [
    {
     "name": "stdout",
     "output_type": "stream",
     "text": [
      "24\n",
      "5\n",
      "36\n",
      "5.5\n"
     ]
    }
   ],
   "source": [
    "print(7+8+9) # suma\n",
    "print(8-3) # resta\n",
    "print(12*3) # multiplicacion\n",
    "print(11/2) # division\n",
    "\n"
   ]
  },
  {
   "cell_type": "code",
   "execution_count": 22,
   "metadata": {},
   "outputs": [
    {
     "name": "stdout",
     "output_type": "stream",
     "text": [
      "30000\n",
      "25000\n"
     ]
    }
   ],
   "source": [
    "# Suma de frutas en stock\n",
    "\n",
    "cantidad_de_manzanas = 10\n",
    "cantidad_de_peras = 5\n",
    "\n",
    "precio_manzana = 3000\n",
    "precio_peras = 2500\n",
    "\n",
    "# En una variable hacemos la multiplicacion y luego lo almacenamos\n",
    "precio_total_manzanas = precio_manzana * cantidad_de_manzanas\n",
    "print(precio_total_manzanas) # Imprimimos el valor de la operacion\n",
    "# Aplicamos un descuento\n",
    "descuento = 5000\n",
    "precio_final = precio_total_manzanas - descuento # Resta\n",
    "print(precio_final)"
   ]
  },
  {
   "attachments": {},
   "cell_type": "markdown",
   "metadata": {},
   "source": [
    "## Challenge - 15min\n",
    "\n",
    "Suma: asignar dos números en dos variables diferentes `cantidad_de_manzanas` y `cantidad_de_naranjas`. Luego sumar ambas variables en `cantidad_de_frutas`. Imprimir la última variable.\n",
    "\n",
    "Resta: asignar un valor numérico a la variable `frutas_vendidas`. Luego, asignar la resta entre `cantidad_de_frutas` y `frutas_vendidas` a la variable `frutas_restantes`. Imprimir la última variable."
   ]
  },
  {
   "attachments": {},
   "cell_type": "markdown",
   "metadata": {},
   "source": [
    "# Solucion de Guille 🥰"
   ]
  },
  {
   "cell_type": "code",
   "execution_count": 33,
   "metadata": {},
   "outputs": [
    {
     "name": "stdout",
     "output_type": "stream",
     "text": [
      "40\n",
      "10\n"
     ]
    }
   ],
   "source": [
    "cantidad_de_manzanas = 25\n",
    "cantidad_de_naranjas = 15\n",
    "cantidad_de_frutas = (cantidad_de_manzanas + cantidad_de_naranjas)\n",
    "print (cantidad_de_frutas) \n",
    "frutas_vendidas = 30\n",
    "frutas_restantes = (cantidad_de_frutas - frutas_vendidas)\n",
    "print(frutas_restantes)"
   ]
  },
  {
   "attachments": {},
   "cell_type": "markdown",
   "metadata": {},
   "source": [
    "# Solucion de Myrian 🤣"
   ]
  },
  {
   "cell_type": "code",
   "execution_count": 32,
   "metadata": {},
   "outputs": [
    {
     "name": "stdout",
     "output_type": "stream",
     "text": [
      "9\n",
      "5\n"
     ]
    }
   ],
   "source": [
    "cantida_de_manzana = 5\n",
    "cantidad_de_narana = 4\n",
    "cantidad_de_frutas = (cantida_de_manzana + cantidad_de_narana)\n",
    "print (cantidad_de_frutas)\n",
    "frutas_vendidas = 4\n",
    "resta = (cantidad_de_frutas - frutas_vendidas)\n",
    "frutas_restante = resta\n",
    "print (frutas_restante)\n"
   ]
  },
  {
   "attachments": {},
   "cell_type": "markdown",
   "metadata": {},
   "source": [
    "# Strings"
   ]
  },
  {
   "cell_type": "code",
   "execution_count": 43,
   "metadata": {},
   "outputs": [
    {
     "name": "stdout",
     "output_type": "stream",
     "text": [
      "Martin\n",
      "Quintana\n",
      "Martin Quintana\n",
      "Hola, me llamo Martin y mi apellido es Quintana\n"
     ]
    }
   ],
   "source": [
    "nombre = \"Martin\"\n",
    "apellido = \"Quintana\"\n",
    "\n",
    "print(nombre)\n",
    "print(apellido)\n",
    "\n",
    "print(nombre + \" \" + apellido)\n",
    "\n",
    "print(\"Hola, me llamo \" + nombre + \" y mi apellido es \" + apellido)"
   ]
  },
  {
   "cell_type": "code",
   "execution_count": 47,
   "metadata": {},
   "outputs": [
    {
     "name": "stdout",
     "output_type": "stream",
     "text": [
      "45\n"
     ]
    }
   ],
   "source": [
    "numero_a = 30\n",
    "numero_b = 15\n",
    "\n",
    "resultado = numero_a + numero_b\n",
    "\n",
    "print(resultado)"
   ]
  },
  {
   "cell_type": "code",
   "execution_count": 51,
   "metadata": {},
   "outputs": [
    {
     "name": "stdout",
     "output_type": "stream",
     "text": [
      "Hola, me llamo Martin y mi apellido es Quintana\n"
     ]
    }
   ],
   "source": [
    "print(f\"Hola, me llamo {nombre} y mi apellido es {apellido}\")"
   ]
  },
  {
   "attachments": {},
   "cell_type": "markdown",
   "metadata": {},
   "source": [
    "## Challenge 🤺 - 15m\n",
    "\n",
    "Asignar el nombre y el apellido de tu compañero/a a las variables nombre y apellido. Luego, imprimir una frase, utilizando las variables.\n",
    "EJEMPLO: \"Hola. Me llamo Martin Quintana. Mucho gusto.\""
   ]
  },
  {
   "attachments": {},
   "cell_type": "markdown",
   "metadata": {},
   "source": [
    "# Solucion de Keyla 👑"
   ]
  },
  {
   "cell_type": "code",
   "execution_count": 52,
   "metadata": {},
   "outputs": [
    {
     "name": "stdout",
     "output_type": "stream",
     "text": [
      "Hola, me llamo Jesse y mi apellido es Godoy, un gusto\n"
     ]
    }
   ],
   "source": [
    "nombre= 'Jesse'\n",
    "apellido= 'Godoy'\n",
    "print (f'Hola, me llamo {nombre} y mi apellido es {apellido}, un gusto')"
   ]
  },
  {
   "attachments": {},
   "cell_type": "markdown",
   "metadata": {},
   "source": [
    "# Solucion de Noelia 🦄"
   ]
  },
  {
   "cell_type": "code",
   "execution_count": 53,
   "metadata": {},
   "outputs": [
    {
     "name": "stdout",
     "output_type": "stream",
     "text": [
      "El nombre de mi compañera es Jean y su apellido es Zarate. Jean es amazing\n"
     ]
    }
   ],
   "source": [
    "nombre = \"Jean\"\n",
    "apellido = \"Zarate\"\n",
    "print (f\"El nombre de mi compañera es {nombre} y su apellido es {apellido}. {nombre} es amazing\")"
   ]
  },
  {
   "cell_type": "code",
   "execution_count": 57,
   "metadata": {},
   "outputs": [
    {
     "name": "stdout",
     "output_type": "stream",
     "text": [
      "El nombre de mi compañera es Claudia y su apellido es Achucarro. Claudia es amazing\n"
     ]
    }
   ],
   "source": [
    "nombre = input(\"Ingresa un nombre\")\n",
    "apellido = input(\"Ingresa un apellido\")\n",
    "\n",
    "print (f\"El nombre de mi compañera es {nombre} y su apellido es {apellido}. {nombre} es amazing\")"
   ]
  },
  {
   "cell_type": "code",
   "execution_count": 59,
   "metadata": {},
   "outputs": [
    {
     "name": "stdout",
     "output_type": "stream",
     "text": [
      "<class 'str'>\n"
     ]
    }
   ],
   "source": [
    "un_producto = input(\"Ingrese lo que quiere comprar\")\n",
    "# un_producto = \"15000\"\n",
    "print(type(un_producto))"
   ]
  },
  {
   "cell_type": "code",
   "execution_count": 66,
   "metadata": {},
   "outputs": [
    {
     "name": "stdout",
     "output_type": "stream",
     "text": [
      "<class 'int'>\n"
     ]
    }
   ],
   "source": [
    "cantidad_productos = int(input(\"Ingrese la cantidad de producto\"))\n",
    "print(type(cantidad_productos))"
   ]
  },
  {
   "attachments": {},
   "cell_type": "markdown",
   "metadata": {},
   "source": [
    "## Challenge 🤺 - 10m\n",
    "\n",
    "Solicitar al usuario ingresar dos números y almacenarlos en dos variables distintas. Luego, imprimir la suma de los dos números."
   ]
  },
  {
   "attachments": {},
   "cell_type": "markdown",
   "metadata": {},
   "source": [
    "# Solucion de Mara 🐩"
   ]
  },
  {
   "cell_type": "code",
   "execution_count": 67,
   "metadata": {},
   "outputs": [
    {
     "name": "stdout",
     "output_type": "stream",
     "text": [
      "La suma de los numeros es 30 \n"
     ]
    }
   ],
   "source": [
    "numeroA = int(input(\"ingrese el primer numero:\"))\n",
    "numeroB = int(input(\"Ingrese el segundo numero\"))\n",
    "sumaAB = numeroA + numeroB \n",
    "print(f\"La suma de los numeros es {sumaAB} \")"
   ]
  },
  {
   "attachments": {},
   "cell_type": "markdown",
   "metadata": {},
   "source": [
    "# Solucion de Rebeca 😡"
   ]
  },
  {
   "cell_type": "code",
   "execution_count": 68,
   "metadata": {},
   "outputs": [
    {
     "name": "stdout",
     "output_type": "stream",
     "text": [
      "La cantidad de naranjas que quiere comprar es 3 y la cantidad de manzanas es 2. En total serían 5 frutas.\n"
     ]
    }
   ],
   "source": [
    "cantidad_naranjas = int(input(\"¿Cuántas naranjas quieres comprar?\"))\n",
    "cantidad_manzanas = int(input(\"¿Cuántas manzanas quieres comprar?\"))\n",
    "frutas_total= cantidad_naranjas + cantidad_manzanas\n",
    "print(f\"La cantidad de naranjas que quiere comprar es {cantidad_naranjas} y la cantidad de manzanas es {cantidad_manzanas}. En total serían {frutas_total} frutas.\")"
   ]
  },
  {
   "attachments": {},
   "cell_type": "markdown",
   "metadata": {},
   "source": [
    "# Funciones"
   ]
  },
  {
   "cell_type": "code",
   "execution_count": 73,
   "metadata": {},
   "outputs": [
    {
     "name": "stdout",
     "output_type": "stream",
     "text": [
      "Hola que tal\n",
      "Saludos\n"
     ]
    }
   ],
   "source": [
    "# Creamos una funcion\n",
    "def saludar():\n",
    "    # Tenemos en cuenta la identacion\n",
    "    print(\"Hola que tal\")\n",
    "    print(\"Saludos\")\n",
    "\n",
    "# Llamamos a la variable\n",
    "saludar() "
   ]
  },
  {
   "cell_type": "code",
   "execution_count": 76,
   "metadata": {},
   "outputs": [
    {
     "name": "stdout",
     "output_type": "stream",
     "text": [
      "Hola mundo\n",
      "Hello world\n",
      "Hallo Welt\n",
      "Hola mundo\n",
      "Hello world\n",
      "Hallo Welt\n"
     ]
    }
   ],
   "source": [
    "# Creamos la funcion\n",
    "def saludar_idiomas():\n",
    "    print(\"Hola mundo\")\n",
    "    print(\"Hello world\")\n",
    "    print(\"Hallo Welt\")\n",
    "\n",
    "# Llamamos la funcion\n",
    "saludar_idiomas()\n",
    "# Llamamos la funcion \n",
    "saludar_idiomas()"
   ]
  },
  {
   "attachments": {},
   "cell_type": "markdown",
   "metadata": {},
   "source": [
    "## Challenge 15min\n",
    "\n",
    "Crear una función de un proceso que se les ocurra que tenga varios pasos.\n",
    "Ejecutar la función 3 veces."
   ]
  },
  {
   "attachments": {},
   "cell_type": "markdown",
   "metadata": {},
   "source": [
    "# Solucion de Sophie ✨"
   ]
  },
  {
   "cell_type": "code",
   "execution_count": 77,
   "metadata": {},
   "outputs": [
    {
     "name": "stdout",
     "output_type": "stream",
     "text": [
      "calentar agua y esperar a que hierva\n",
      "una vez que el agua este hirviendo colocar la pasta por 5 min\n",
      "poner a sellar la carne molida en una olla con aceite\n",
      "separar las verduras que se van a utilizar en la salsa\n",
      "cortar las verduras y agregar a la olla cuando la carne este sellada\n",
      "una vez que la salsa este lista mwzclar con la pasta\n",
      "calentar agua y esperar a que hierva\n",
      "una vez que el agua este hirviendo colocar la pasta por 5 min\n",
      "poner a sellar la carne molida en una olla con aceite\n",
      "separar las verduras que se van a utilizar en la salsa\n",
      "cortar las verduras y agregar a la olla cuando la carne este sellada\n",
      "una vez que la salsa este lista mwzclar con la pasta\n",
      "calentar agua y esperar a que hierva\n",
      "una vez que el agua este hirviendo colocar la pasta por 5 min\n",
      "poner a sellar la carne molida en una olla con aceite\n",
      "separar las verduras que se van a utilizar en la salsa\n",
      "cortar las verduras y agregar a la olla cuando la carne este sellada\n",
      "una vez que la salsa este lista mwzclar con la pasta\n"
     ]
    }
   ],
   "source": [
    "def cocinar_pasta():\n",
    "    print(\"calentar agua y esperar a que hierva\")\n",
    "    print(\"una vez que el agua este hirviendo colocar la pasta por 5 min\")\n",
    "    print(\"poner a sellar la carne molida en una olla con aceite\")\n",
    "    print(\"separar las verduras que se van a utilizar en la salsa\")\n",
    "    print(\"cortar las verduras y agregar a la olla cuando la carne este sellada\")\n",
    "    print('una vez que la salsa este lista mwzclar con la pasta')\n",
    "\n",
    "cocinar_pasta()\n",
    "cocinar_pasta()\n",
    "cocinar_pasta()\n"
   ]
  },
  {
   "attachments": {},
   "cell_type": "markdown",
   "metadata": {},
   "source": [
    "# Solucion de Jesse 🍔"
   ]
  },
  {
   "cell_type": "code",
   "execution_count": 78,
   "metadata": {},
   "outputs": [
    {
     "name": "stdout",
     "output_type": "stream",
     "text": [
      "Cocinar la hamburguesa\n",
      "poner en un pan de hamburguesa\n",
      "Agregarle todos los ingredientes que quieras\n",
      "Cocinar la hamburguesa\n",
      "poner en un pan de hamburguesa\n",
      "Agregarle todos los ingredientes que quieras\n",
      "Cocinar la hamburguesa\n",
      "poner en un pan de hamburguesa\n",
      "Agregarle todos los ingredientes que quieras\n"
     ]
    }
   ],
   "source": [
    "def preparar_una_hamburguesa():\n",
    "    print(\"Cocinar la hamburguesa\")\n",
    "    print(\"poner en un pan de hamburguesa\")\n",
    "    print(\"Agregarle todos los ingredientes que quieras\")\n",
    "\n",
    "\n",
    "preparar_una_hamburguesa()\n",
    "preparar_una_hamburguesa()\n",
    "preparar_una_hamburguesa()"
   ]
  },
  {
   "cell_type": "code",
   "execution_count": 84,
   "metadata": {},
   "outputs": [
    {
     "name": "stdout",
     "output_type": "stream",
     "text": [
      "Distancia recorrida  300\n",
      "400\n"
     ]
    }
   ],
   "source": [
    "# Alcance de una funcion \n",
    "\n",
    "# Variables globales\n",
    "distancia_final = 600\n",
    "distancia_recorrida = 200\n",
    "\n",
    "def avanzar():\n",
    "    # Variables locales\n",
    "    distancia_recorrida = 700\n",
    "    distancia = 1000 - distancia_recorrida\n",
    "    print(\"Distancia recorrida \", distancia)\n",
    "\n",
    "distancia_total = distancia_final - distancia_recorrida\n",
    "avanzar()\n",
    "print(distancia_total)"
   ]
  },
  {
   "attachments": {},
   "cell_type": "markdown",
   "metadata": {},
   "source": [
    "# Parametros y Argumentos"
   ]
  },
  {
   "cell_type": "code",
   "execution_count": 93,
   "metadata": {},
   "outputs": [
    {
     "name": "stdout",
     "output_type": "stream",
     "text": [
      "Auto vendido de la marca Kia, de color Azul del anho 2023\n",
      "Auto vendido de la marca Mercedes-Benz, de color Blanco del anho 2013\n"
     ]
    }
   ],
   "source": [
    "# Parametro: es un valor que la funcion espera recibir\n",
    "def venta_de_autos(marca, color, anho): \n",
    "    print(f\"Auto vendido de la marca {marca}, de color {color} del anho {anho}\")\n",
    "\n",
    "# Argumento: es el valor que se le envia a la funcion y se almacena en el parametro\n",
    "venta_de_autos(\"Kia\",\"Azul\", 2023) # 1ra venta del dia\n",
    "venta_de_autos(\"Mercedes-Benz\", \"Blanco\", 2013) # 2da venta del dia"
   ]
  },
  {
   "attachments": {},
   "cell_type": "markdown",
   "metadata": {},
   "source": [
    "## Challenge 🤺 - 15m\n",
    "\n",
    "Dada la función que acabamos de crear, definir un parametro mas sobre el auto que quiere vender y concatenar."
   ]
  },
  {
   "attachments": {},
   "cell_type": "markdown",
   "metadata": {},
   "source": [
    "# Solucion de Jean 👖"
   ]
  },
  {
   "cell_type": "code",
   "execution_count": 94,
   "metadata": {},
   "outputs": [
    {
     "name": "stdout",
     "output_type": "stream",
     "text": [
      "Auto vendido de la marca Kia, modelo Picanto de color Rojo del anho 2023\n",
      "Auto vendido de la marca Suzuki, modelo Baleno de color Plata del anho 2016\n",
      "Auto vendido de la marca SsangYong, modelo Korando C300 de color Negro del anho 2023\n"
     ]
    }
   ],
   "source": [
    "def venta_de_autos(marca,modelo, color,anho):\n",
    "    print(f\"Auto vendido de la marca {marca}, modelo {modelo} de color {color} del anho {anho}\")\n",
    "venta_de_autos(\"Kia\",\"Picanto\",\"Rojo\",2023) #1ra venta del día\n",
    "venta_de_autos(\"Suzuki\",\"Baleno\",\"Plata\",2016)#2da venta del día\n",
    "venta_de_autos(\"SsangYong\",\"Korando C300\",\"Negro\",2023)#3da venta del día"
   ]
  },
  {
   "attachments": {},
   "cell_type": "markdown",
   "metadata": {},
   "source": [
    "# Solucion de Enrique 😎"
   ]
  },
  {
   "cell_type": "code",
   "execution_count": 95,
   "metadata": {},
   "outputs": [
    {
     "name": "stdout",
     "output_type": "stream",
     "text": [
      "Auto vendido de la marca Kia, de color Azul del anho 2023 el mismo es 0km\n",
      "Auto vendido de la marca Mercedes-Benz, de color Blanco del anho 2020 el mismo es Usado\n"
     ]
    }
   ],
   "source": [
    "def venta_de_autos(marca, color, anho, uso):\n",
    "    print(f\"Auto vendido de la marca {marca}, de color {color} del anho {anho} el mismo es {uso}\" )\n",
    "\n",
    "venta_de_autos(\"Kia\", \"Azul\", 2023, \"0km\") #1ra venta del dia\n",
    "venta_de_autos(\"Mercedes-Benz\", \"Blanco\", 2020, \"Usado\") #2da venta del dia"
   ]
  },
  {
   "attachments": {},
   "cell_type": "markdown",
   "metadata": {},
   "source": [
    "# Funciones \n",
    "## Funciones creadas y Funciones Built-in"
   ]
  },
  {
   "cell_type": "code",
   "execution_count": 96,
   "metadata": {},
   "outputs": [
    {
     "name": "stdout",
     "output_type": "stream",
     "text": [
      "Hola\n"
     ]
    }
   ],
   "source": [
    "print(\"Hola\") # es una funcion ya incorporada de Python"
   ]
  },
  {
   "cell_type": "code",
   "execution_count": 97,
   "metadata": {},
   "outputs": [
    {
     "name": "stdout",
     "output_type": "stream",
     "text": [
      "12\n"
     ]
    }
   ],
   "source": [
    "# Al crear la funcion podemos definir parametros para operaciones\n",
    "def sumar (numero_a, numero_b):\n",
    "    # Sumamos los parametros\n",
    "    resultado = numero_a + numero_b\n",
    "    # Imprimimos el resultado\n",
    "    print(resultado)\n",
    "\n",
    "# Llamamos a la funcion y le pasamos los argumentos\n",
    "sumar(5,7)"
   ]
  },
  {
   "attachments": {},
   "cell_type": "markdown",
   "metadata": {},
   "source": [
    "## Challenge 🤺 - 20min\n",
    "\n",
    "Crear funciones con operaciones basicas de una calculadora\n",
    "- Una funcion que reciba 2 valores e imprima la suma de ambos\n",
    "- Una funcion que reciba 2 valores e imprima la resta de ambos\n",
    "- Una funcion que reciba 2 valores e imprima la multiplicacion de ambos\n",
    "- Una funcion que reciba 2 valores e imprima la division de ambos"
   ]
  },
  {
   "attachments": {},
   "cell_type": "markdown",
   "metadata": {},
   "source": [
    "# Solucion de Hugo 🥸"
   ]
  },
  {
   "cell_type": "code",
   "execution_count": 98,
   "metadata": {},
   "outputs": [
    {
     "name": "stdout",
     "output_type": "stream",
     "text": [
      "la suma es 100.9\n",
      "la resta es -49.5\n"
     ]
    }
   ],
   "source": [
    "x = float(input(\"ingrese el primer numero\"))\n",
    "y = float(input(\"ingrese el sengundo numero\"))\n",
    "def suma(x,y):\n",
    "    suma = x + y\n",
    "    print (\"la suma es\",suma)\n",
    "\n",
    "def resta(x,y):\n",
    "    resta = x - y\n",
    "    print (\"la resta es\",resta)\n",
    "\n",
    "def mult(x,y):\n",
    "    mult = x * y\n",
    "    print (\"el producto es\",mult)\n",
    "\n",
    "def division(x,y):\n",
    "    division = x/y\n",
    "    print (division,\"es la divicion\")\n",
    "\n",
    "suma(x,y)\n",
    "resta(x,y)"
   ]
  },
  {
   "attachments": {},
   "cell_type": "markdown",
   "metadata": {},
   "source": [
    "# Solucion de Jacky 🐀"
   ]
  },
  {
   "cell_type": "code",
   "execution_count": 99,
   "metadata": {},
   "outputs": [
    {
     "name": "stdout",
     "output_type": "stream",
     "text": [
      "10\n",
      "3\n",
      "6\n",
      "6.0\n"
     ]
    }
   ],
   "source": [
    "numero1 = int(input(\"Ingresa un numero para sumar\"))\n",
    "numero2 = int(input(\"Ingresa otro numero\"))\n",
    "\n",
    "\n",
    "def suma(numero1,numero2):\n",
    "       resultado = numero1 + numero2\n",
    "       print(resultado)\n",
    "\n",
    "suma(numero1,numero2)\n",
    "\n",
    "\n",
    "numero1 = int(input(\"Ingresa un numero para restar\"))\n",
    "numero2 = int(input(\"Ingresa otro numero\"))\n",
    "\n",
    "\n",
    "def resta(numero1,numero2):\n",
    "       resultado = numero1 - numero2\n",
    "       print(resultado)\n",
    "\n",
    "resta(numero1,numero2)  \n",
    "\n",
    "\n",
    "numero1 = int(input(\"Ingresa un numero para multiplicar\"))\n",
    "numero2 = int(input(\"Ingresa otro numero\"))\n",
    "\n",
    "\n",
    "def multiplicacion(numero1,numero2):\n",
    "       resultado = numero1 * numero2\n",
    "       print(resultado)\n",
    "\n",
    "multiplicacion(numero1,numero2)\n",
    "\n",
    "\n",
    "numero1 = int(input(\"Ingresa un numero para dividir\"))\n",
    "numero2 = int(input(\"Ingresa otro numero\"))\n",
    "\n",
    "\n",
    "def division(numero1,numero2):\n",
    "       resultado = numero1 / numero2\n",
    "       print(resultado)\n",
    "\n",
    "division(numero1,numero2)"
   ]
  }
 ],
 "metadata": {
  "kernelspec": {
   "display_name": "Python 3",
   "language": "python",
   "name": "python3"
  },
  "language_info": {
   "codemirror_mode": {
    "name": "ipython",
    "version": 3
   },
   "file_extension": ".py",
   "mimetype": "text/x-python",
   "name": "python",
   "nbconvert_exporter": "python",
   "pygments_lexer": "ipython3",
   "version": "3.11.3"
  },
  "orig_nbformat": 4
 },
 "nbformat": 4,
 "nbformat_minor": 2
}
