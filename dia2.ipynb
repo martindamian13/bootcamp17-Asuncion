{
 "cells": [
  {
   "attachments": {},
   "cell_type": "markdown",
   "metadata": {},
   "source": [
    "# Dia 2 - Pensamiento Computacional"
   ]
  },
  {
   "cell_type": "code",
   "execution_count": null,
   "metadata": {},
   "outputs": [],
   "source": [
    "# Operadores de relacion\n",
    "\n",
    "# < Menor que ( a < b )\n",
    "# <= Menor o igual (a <= b)\n",
    "# > Mayor que (a > b)\n",
    "# >= Mayor o igual (a >= b)\n",
    "# == igual (a == b)\n",
    "# != diferente (a != b)"
   ]
  },
  {
   "cell_type": "code",
   "execution_count": 5,
   "metadata": {},
   "outputs": [],
   "source": [
    "# SI (pasa algo) \n",
    "    # hace esto\n",
    "\n",
    "edad = 17\n",
    "\n",
    "if edad < 18:\n",
    "    print(\"Es menor de edad\")\n",
    "else:\n",
    "    print(\"Es mayor de edad\")"
   ]
  },
  {
   "cell_type": "code",
   "execution_count": 10,
   "metadata": {},
   "outputs": [
    {
     "name": "stdout",
     "output_type": "stream",
     "text": [
      "El auto cuesta 7000\n"
     ]
    }
   ],
   "source": [
    "precio_comunes = 1000\n",
    "\n",
    "# Podemos usar Condicionales en funciones\n",
    "\n",
    "def venta_autos_precio(marca):\n",
    "\n",
    "    marca_premium_precio = 7000\n",
    "\n",
    "    if marca == \"Mercedes-Benz\":\n",
    "        print(f\"El auto cuesta {marca_premium_precio}\")\n",
    "    else:\n",
    "        print(f\"El auto cuesta {precio_comunes}\")\n",
    "\n",
    "venta_autos_precio(\"Mercedes-Benz\")"
   ]
  },
  {
   "cell_type": "code",
   "execution_count": 20,
   "metadata": {},
   "outputs": [
    {
     "name": "stdout",
     "output_type": "stream",
     "text": [
      "Intenta de nuevo\n"
     ]
    }
   ],
   "source": [
    "# Crear un login \n",
    "\n",
    "comando_que_ingresa_usuario = input(\"Ingresa un contraseña\")\n",
    "password = \"entrar\"\n",
    "\n",
    "if comando_que_ingresa_usuario == password:\n",
    "    print(\"La contraseña es correcta\")\n",
    "else:\n",
    "    print(\"Intenta de nuevo\")"
   ]
  },
  {
   "cell_type": "code",
   "execution_count": 15,
   "metadata": {},
   "outputs": [
    {
     "name": "stdout",
     "output_type": "stream",
     "text": [
      "El auto cuesta 7000\n",
      "El auto cuesta 7000\n"
     ]
    }
   ],
   "source": [
    "# Dos condiciones \n",
    "\n",
    "precio_comunes = 1000\n",
    "\n",
    "def venta_autos_precio(marca):\n",
    "\n",
    "    marca_premium_precio = 7000\n",
    "\n",
    "    # Condicionales con varios caminos\n",
    "    if marca == \"Mercedes-Benz\":\n",
    "        print(f\"El auto cuesta {marca_premium_precio}\")\n",
    "    elif marca == \"Ferrari\":\n",
    "        print(f\"El auto cuesta {marca_premium_precio}\")\n",
    "    elif marca == \"Laborgini\":\n",
    "        print(\"\")\n",
    "    else:\n",
    "        print(f\"El auto cuesta {precio_comunes}\")\n",
    "\n",
    "venta_autos_precio(\"Mercedes-Benz\")\n",
    "venta_autos_precio(\"Ferrari\")"
   ]
  },
  {
   "cell_type": "code",
   "execution_count": 18,
   "metadata": {},
   "outputs": [
    {
     "name": "stdout",
     "output_type": "stream",
     "text": [
      "Hace lo que quieras\n"
     ]
    }
   ],
   "source": [
    "# Operadores logicos \n",
    "\n",
    "# and = Verdadero solo si ambos son verdaderos\n",
    "# or = Verdadero si uno de los dos es verdadero\n",
    "# not = Cambia el valor de False a True o True a False\n",
    "\n",
    "edad = 25\n",
    "\n",
    "if edad < 18:\n",
    "    print(\"toma agua\")\n",
    "elif edad >= 18 and edad <= 21:\n",
    "    print(\"Compra callado\")\n",
    "else: \n",
    "    print(\"Hace lo que quieras\")"
   ]
  },
  {
   "cell_type": "code",
   "execution_count": 24,
   "metadata": {},
   "outputs": [
    {
     "name": "stdout",
     "output_type": "stream",
     "text": [
      "trabaja amigo\n"
     ]
    }
   ],
   "source": [
    "edad = 21\n",
    "trabaja = False\n",
    "\n",
    "if edad < 18:\n",
    "    print(\"No podes trabajar\")\n",
    "elif edad < 65 and trabaja == True:\n",
    "    print(\"Activo laboralmente\")\n",
    "elif edad < 65 and trabaja == False:\n",
    "    print(\"trabaja amigo\")\n",
    "else:\n",
    "    print(\"Jubilado\")"
   ]
  },
  {
   "attachments": {},
   "cell_type": "markdown",
   "metadata": {},
   "source": [
    "### Challenge 🤺 - 20m\n",
    "\n",
    "Escribir un programa en el que se pregunte al usuario por una temperatura (en grados Celsius), imprima la temperatura escrita, y luego clasificar la temperatura ingresada en los siguientes niveles:\n",
    "\n",
    "- Entre -10 y 18 grados, que imprima \"Fresquete\".\n",
    "- Entre 19 y 30 grados, que imprima \"Calor'i\".\n",
    "- Entre 31 y 45 grados, que imprima \"Hakuuuuuu\".\n",
    "- Para todo lo demás, imprimir \"Ñamano mba'e!\"."
   ]
  },
  {
   "attachments": {},
   "cell_type": "markdown",
   "metadata": {},
   "source": [
    "# Solucion de Mara 🌻"
   ]
  },
  {
   "cell_type": "code",
   "execution_count": 29,
   "metadata": {},
   "outputs": [
    {
     "name": "stdout",
     "output_type": "stream",
     "text": [
      "ña mano mba'e\n"
     ]
    }
   ],
   "source": [
    "temperatura = int(input(\"Ingrese la temperatura actual:\"))\n",
    "\n",
    "if temperatura >= -10 and temperatura <= 18:\n",
    "    print(\"oipiro\")\n",
    "elif temperatura >= 19 and temperatura <= 30 :\n",
    "    print(\"Calor'i\")\n",
    "elif temperatura >= 31 and temperatura <= 45:\n",
    "    print(\"Hakuuuuuuro\")\n",
    "else:\n",
    "    print(\"ña mano mba'e\")"
   ]
  },
  {
   "attachments": {},
   "cell_type": "markdown",
   "metadata": {},
   "source": [
    "# Solucion de Sophie 💜"
   ]
  },
  {
   "cell_type": "code",
   "execution_count": 34,
   "metadata": {},
   "outputs": [
    {
     "name": "stdout",
     "output_type": "stream",
     "text": [
      "namano mbae\n"
     ]
    }
   ],
   "source": [
    "temperatura= int(input(\"Ingrese la temperatura actual\"))\n",
    "\n",
    "if temperatura >= -10 and temperatura <= 18:\n",
    "    print(\"fresquete\")\n",
    "elif temperatura >= 19 and temperatura <= 30:\n",
    "    print(\"calori\")\n",
    "elif temperatura >= 31 and temperatura <= 45:\n",
    "    print(\"hakuuuuu\")\n",
    "else: \n",
    "    print(\"namano mbae\")"
   ]
  },
  {
   "attachments": {},
   "cell_type": "markdown",
   "metadata": {},
   "source": [
    "# Solucion de Sara 👽"
   ]
  },
  {
   "cell_type": "code",
   "execution_count": 37,
   "metadata": {},
   "outputs": [
    {
     "name": "stdout",
     "output_type": "stream",
     "text": [
      "Hacen 24°C\n",
      "Hacen 24°C\n",
      "Calor'i\n"
     ]
    }
   ],
   "source": [
    "grados = int(input(\"Ingrese la temperatura actual en grados Celsius\"))\n",
    "temperatura_seleccionada= (f\"Hacen {grados}°C\")\n",
    "\n",
    "print(temperatura_seleccionada)\n",
    "\n",
    "if grados >= -10 and grados <= 18:\n",
    "    print(f\"Hacen {grados}°C\")\n",
    "    print(\"Fresquete\")\n",
    "elif grados >= 19 and grados <= 29:\n",
    "    print(f\"Hacen {grados}°C\")\n",
    "    print (\"Calor'i\")\n",
    "elif grados >= 30 and grados <= 45:\n",
    "    print(f\"Hacen {grados}°C\")\n",
    "    print(\"HAKUUUroooO\")\n",
    "else:\n",
    "    print(f\"Hacen {grados} °C\")\n",
    "    print(\"ñamano mba'e\")"
   ]
  },
  {
   "attachments": {},
   "cell_type": "markdown",
   "metadata": {},
   "source": [
    "# Solucion de Belen 🍖"
   ]
  },
  {
   "cell_type": "code",
   "execution_count": 38,
   "metadata": {},
   "outputs": [
    {
     "name": "stdout",
     "output_type": "stream",
     "text": [
      "amigo, ¿cuál es la temperatura?\n",
      "hacen 24°\n",
      "Calor'i\n"
     ]
    }
   ],
   "source": [
    "Pregunta= \"amigo, ¿cuál es la temperatura?\"\n",
    "temperatura= int(input(\"escriba una temperatura\"))\n",
    "Respuesta= f\"hacen { temperatura}°\"\n",
    "\n",
    "print(Pregunta)\n",
    "print(Respuesta)\n",
    "\n",
    "if temperatura >= -10 and temperatura <= 18:\n",
    "    print(\"fresquete\")\n",
    "elif temperatura >= 19 and temperatura <=30:\n",
    "    print(\"Calor'i\")\n",
    "elif temperatura >= 31 and temperatura <=41:\n",
    "    print(\"Hakuuuuuuuuuuuuu\")\n",
    "else:\n",
    "    print(\"ñamano mba'e\")"
   ]
  },
  {
   "cell_type": "code",
   "execution_count": 43,
   "metadata": {},
   "outputs": [
    {
     "name": "stdout",
     "output_type": "stream",
     "text": [
      "Namanombata\n"
     ]
    }
   ],
   "source": [
    "temperatura = int(input(\"Ingrese una temperatura\"))\n",
    "\n",
    "if -10 <= temperatura <= 18: \n",
    "    print( \"Fresquete\" ) \n",
    "elif 18 < temperatura <= 30: \n",
    "    print(\"Calorcito\")  \n",
    "elif 30 < temperatura <= 40: \n",
    "    print(\"Hakuuuu\")  \n",
    "else: \n",
    "    print(\"Namanombata\") "
   ]
  },
  {
   "attachments": {},
   "cell_type": "markdown",
   "metadata": {},
   "source": [
    "# Challenge - 10min\n",
    "\n",
    "Escribir un programa que pida al usuario un número entero y muestre por pantalla si es par o impar."
   ]
  },
  {
   "attachments": {},
   "cell_type": "markdown",
   "metadata": {},
   "source": [
    "# Solucion de Olga 🥦"
   ]
  },
  {
   "cell_type": "code",
   "execution_count": 45,
   "metadata": {},
   "outputs": [
    {
     "name": "stdout",
     "output_type": "stream",
     "text": [
      "El numero 8 es par\n"
     ]
    }
   ],
   "source": [
    "num = int(input(\"Ingrese un numero entero\"))\n",
    "\n",
    "if num % 2 == 0:\n",
    "    print(f\"El numero {num} es par\")\n",
    "else:\n",
    "    print(f\"El numero {num} es impar\")"
   ]
  },
  {
   "cell_type": "code",
   "execution_count": 47,
   "metadata": {},
   "outputs": [
    {
     "name": "stdout",
     "output_type": "stream",
     "text": [
      "El numero 8 es par\n"
     ]
    }
   ],
   "source": [
    "num = int(input(\"Ingrese un numero entero\"))\n",
    "a = num/2\n",
    "c = int(a)\n",
    "b = (a-c)*10\n",
    "if b>0:\n",
    "    print(f\"El numero {num} es impar\")\n",
    "else:\n",
    "    print(f\"El numero {num} es par\")"
   ]
  },
  {
   "attachments": {},
   "cell_type": "markdown",
   "metadata": {},
   "source": [
    "# Bucles \n",
    "\n",
    "## Bucles Condicionales"
   ]
  },
  {
   "cell_type": "code",
   "execution_count": null,
   "metadata": {},
   "outputs": [],
   "source": [
    "# bucle (condicion) = Verdadero:\n",
    "    # Se ejecuta\n",
    "\n"
   ]
  },
  {
   "cell_type": "code",
   "execution_count": 1,
   "metadata": {},
   "outputs": [
    {
     "name": "stdout",
     "output_type": "stream",
     "text": [
      "El numero es 5\n",
      "El numero es 5\n",
      "El numero es 5\n",
      "El numero es 5\n",
      "El numero es 5\n",
      "El numero es 5\n",
      "Saliste del bucle\n"
     ]
    }
   ],
   "source": [
    "numero = 5 \n",
    "\n",
    "while numero == 5:\n",
    "    print(\"El numero es 5\")\n",
    "    numero = int(input(\"Ingrese un numero\"))\n",
    "\n",
    "print(\"Saliste del bucle\")"
   ]
  },
  {
   "cell_type": "code",
   "execution_count": 3,
   "metadata": {},
   "outputs": [
    {
     "name": "stdout",
     "output_type": "stream",
     "text": [
      "Te equivocaste, intenta de nuevo\n",
      "Te equivocaste, intenta de nuevo\n",
      "Te equivocaste, intenta de nuevo\n",
      "Ganaste amigo\n"
     ]
    }
   ],
   "source": [
    "numero_secreto = 73\n",
    "numero_ingresado = int(input(\"Ingrese un numero\"))\n",
    "\n",
    "while numero_ingresado != numero_secreto:\n",
    "    print(\"Te equivocaste, intenta de nuevo\")\n",
    "    numero_ingresado = int(input(\"Ingrese un numero\"))\n",
    "\n",
    "print(\"Ganaste amigo\")"
   ]
  },
  {
   "cell_type": "code",
   "execution_count": 6,
   "metadata": {},
   "outputs": [
    {
     "name": "stdout",
     "output_type": "stream",
     "text": [
      "hola\n",
      "hola\n",
      "hola\n",
      "saliste\n"
     ]
    }
   ],
   "source": [
    "contador = 0\n",
    "\n",
    "while contador < 3:\n",
    "    print(\"hola\")\n",
    "    contador = contador + 1\n",
    "print(\"saliste\")"
   ]
  },
  {
   "cell_type": "code",
   "execution_count": 9,
   "metadata": {},
   "outputs": [
    {
     "name": "stdout",
     "output_type": "stream",
     "text": [
      "hola\n",
      "hola\n",
      "hola\n"
     ]
    }
   ],
   "source": [
    "contador = 0\n",
    "while True:\n",
    "    if contador == 3:\n",
    "        break\n",
    "    print(\"hola\")\n",
    "    contador = contador + 1"
   ]
  },
  {
   "attachments": {},
   "cell_type": "markdown",
   "metadata": {},
   "source": [
    "### Challenge 🤺 - 20m\n",
    "Escribir un programa que almacene una contraseña en una variable, y pregunte al usuario por la contraseña hasta que introduzca la contraseña correcta.\n",
    "\n",
    "Cuando el usuario ingrese la contrasena correcta, imprimir un mensaje secreto."
   ]
  },
  {
   "attachments": {},
   "cell_type": "markdown",
   "metadata": {},
   "source": [
    "# Solucion de Luis 😎"
   ]
  },
  {
   "cell_type": "code",
   "execution_count": 10,
   "metadata": {},
   "outputs": [
    {
     "name": "stdout",
     "output_type": "stream",
     "text": [
      "Contraseña incorrecta, intente nuevamente\n",
      "Contraseña incorrecta, intente nuevamente\n",
      "Contraseña incorrecta, intente nuevamente\n",
      "Contraseña incorrecta, intente nuevamente\n",
      "Contraseña incorrecta, intente nuevamente\n",
      "La contraseña es correcta\n"
     ]
    }
   ],
   "source": [
    "ingreso_de_contraseña = input(\"Ingresa una contraseña\")\n",
    "password = \"Phyton\"\n",
    "while ingreso_de_contraseña != password:\n",
    "    print(\"Contraseña incorrecta, intente nuevamente\")\n",
    "    ingreso_de_contraseña = input(\"Ingresa una contraseña\")\n",
    "    if ingreso_de_contraseña == password:\n",
    "        print(\"La contraseña es correcta\")\n",
    "        break"
   ]
  },
  {
   "attachments": {},
   "cell_type": "markdown",
   "metadata": {},
   "source": [
    "# Solucion de Noelia 🌲"
   ]
  },
  {
   "cell_type": "code",
   "execution_count": 11,
   "metadata": {},
   "outputs": [
    {
     "name": "stdout",
     "output_type": "stream",
     "text": [
      "Contraseña incorrecta, vuelva a intentarlo\n",
      "Contraseña incorrecta, vuelva a intentarlo\n",
      "Contraseña incorrecta, vuelva a intentarlo\n",
      "Contraseña incorrecta, vuelva a intentarlo\n",
      "Contraseña correcta, ¡el Iceberg te pertenece!\n"
     ]
    }
   ],
   "source": [
    "contraseña = \"Pengu17\"\n",
    "contraseña_ingresada = input(\"Ingrese la contraseña\")\n",
    "\n",
    "while True:\n",
    "    if contraseña != contraseña_ingresada:\n",
    "        print(\"Contraseña incorrecta, vuelva a intentarlo\")\n",
    "        contraseña_ingresada = input(\"Ingrese la contraseña\")\n",
    "    else: \n",
    "        print(\"Contraseña correcta, ¡el Iceberg te pertenece!\")\n",
    "        break"
   ]
  },
  {
   "cell_type": "code",
   "execution_count": 13,
   "metadata": {},
   "outputs": [
    {
     "name": "stdout",
     "output_type": "stream",
     "text": [
      "Contraseña incorrecta, intente nuevamente\n",
      "Contraseña incorrecta, intente nuevamente\n",
      "Contraseña incorrecta, intente nuevamente\n",
      "Mensaje secreto\n"
     ]
    }
   ],
   "source": [
    "ingreso_de_contraseña = input(\"Ingresa una contraseña\")\n",
    "password = \"Phyton\"\n",
    "while ingreso_de_contraseña != password:\n",
    "    print(\"Contraseña incorrecta, intente nuevamente\")\n",
    "    ingreso_de_contraseña = input(\"Ingresa una contraseña\")\n",
    "\n",
    "print(\"Mensaje secreto\")\n",
    "    "
   ]
  },
  {
   "attachments": {},
   "cell_type": "markdown",
   "metadata": {},
   "source": [
    "# Lista "
   ]
  },
  {
   "cell_type": "code",
   "execution_count": 38,
   "metadata": {},
   "outputs": [
    {
     "name": "stdout",
     "output_type": "stream",
     "text": [
      "manzanas bananas\n",
      "['manzanas', 'bananas', 'peras', 'naranjas']\n",
      "4\n",
      "['manzanas', 'bananas', 'peras', 'naranjas', 'uvas']\n",
      "['manzanas', 'bananas', 'mandarina', 'naranjas', 'uvas']\n",
      "['bananas', 'mandarina', 'naranjas', 'uvas']\n",
      "['bananas', 'mandarina', 'naranjas']\n",
      "[]\n"
     ]
    }
   ],
   "source": [
    "# Creamos listas\n",
    "lista_frutas = [\"manzanas\", \"bananas\", \"peras\", \"naranjas\"]\n",
    "lista_numeros = [1, 5, 7.3, 3.11]\n",
    "lista_booleanos = [True, False, False]\n",
    "\n",
    "lista_variada = [1, \"texto\", True, 5.4]\n",
    "\n",
    "# Imprimimos los elementos de una lista\n",
    "print(lista_frutas[0], lista_frutas[1])\n",
    "# print(type(lista_variada[1]))\n",
    "\n",
    "# Imprimo la lista frutas\n",
    "print(lista_frutas)\n",
    "\n",
    "# Imprimimos la cantidad de elementos de una lista\n",
    "print(len(lista_frutas))\n",
    "\n",
    "# Agregamos elementos a una lista\n",
    "lista_frutas.append(\"uvas\")\n",
    "print(lista_frutas)\n",
    "\n",
    "# Modificar elementos de una lista\n",
    "lista_frutas[2] = \"mandarina\"\n",
    "print(lista_frutas)\n",
    "\n",
    "# Eliminar elementos de una lista\n",
    "# Usando el valor del elemento\n",
    "lista_frutas.remove(\"manzanas\")\n",
    "print(lista_frutas)\n",
    "# Usando el valor de la posicion\n",
    "lista_frutas.pop(3)\n",
    "print(lista_frutas)\n",
    "\n",
    "# Limpiar la lista \n",
    "lista_frutas.clear()\n",
    "print(lista_frutas)\n",
    "\n",
    "# Limpiar lista con posiciones\n",
    "del lista_frutas[0:3]\n",
    "print(lista_frutas)\n"
   ]
  },
  {
   "attachments": {},
   "cell_type": "markdown",
   "metadata": {},
   "source": [
    "### Challenge 🤺 - 20m\n",
    "\n",
    "Crear una lista de 5 elementos. Luego, seguir los siguientes pasos.\n",
    "\n",
    "- Agregar un elemento al final de la lista.\n",
    "\n",
    "- Modificar el segundo elemento.\n",
    "\n",
    "- Eliminar el tercer elemento."
   ]
  },
  {
   "attachments": {},
   "cell_type": "markdown",
   "metadata": {},
   "source": [
    "# Solucion de Ivan 🛥️"
   ]
  },
  {
   "cell_type": "code",
   "execution_count": 39,
   "metadata": {},
   "outputs": [
    {
     "name": "stdout",
     "output_type": "stream",
     "text": [
      "['Toyota', 'Kia', 'Nissan', 'Audi', 'BMW']\n",
      "['Toyota', 'Kia', 'Nissan', 'Audi', 'BMW', 'Volkswagen']\n",
      "['Toyota', 'Ranger Rover', 'Nissan', 'Audi', 'BMW', 'Volkswagen']\n",
      "['Toyota', 'Ranger Rover', 'Audi', 'BMW', 'Volkswagen']\n"
     ]
    }
   ],
   "source": [
    "lista_autos = [\"Toyota\", \"Kia\", \"Nissan\", \"Audi\", \"BMW\"]\n",
    "print(lista_autos)\n",
    "lista_autos.append(\"Volkswagen\")\n",
    "print(lista_autos)\n",
    "lista_autos[1] = \"Ranger Rover\"\n",
    "print(lista_autos)\n",
    "lista_autos.pop(2)\n",
    "print(lista_autos)"
   ]
  },
  {
   "attachments": {},
   "cell_type": "markdown",
   "metadata": {},
   "source": [
    "# Solucion de Lucas 🍊"
   ]
  },
  {
   "cell_type": "code",
   "execution_count": 40,
   "metadata": {},
   "outputs": [
    {
     "name": "stdout",
     "output_type": "stream",
     "text": [
      "[1, 2, 3, 4, 5]\n",
      "[1, 2, 3, 4, 5, 8]\n",
      "[1, 2, 8, 4, 5, 8]\n",
      "[1, 2, 8, 5, 8]\n"
     ]
    }
   ],
   "source": [
    "# Creo una lista de numero\n",
    "lista_numeros = [1, 2, 3, 4, 5]\n",
    "print (lista_numeros) # imprimo la lista\n",
    "\n",
    "lista_numeros.append(8) # Agrego un elemento a la lista\n",
    "print (lista_numeros)\n",
    "\n",
    "lista_numeros[2] = 8\n",
    "print (lista_numeros)\n",
    "\n",
    "lista_numeros.pop(3)\n",
    "print (lista_numeros)"
   ]
  },
  {
   "attachments": {},
   "cell_type": "markdown",
   "metadata": {},
   "source": [
    "## Bucles Iterativos"
   ]
  },
  {
   "cell_type": "code",
   "execution_count": 43,
   "metadata": {},
   "outputs": [
    {
     "name": "stdout",
     "output_type": "stream",
     "text": [
      "0\n",
      "1\n",
      "2\n",
      "3\n",
      "4\n"
     ]
    }
   ],
   "source": [
    "for mano in range(5):\n",
    "    print(mano)"
   ]
  },
  {
   "cell_type": "code",
   "execution_count": 44,
   "metadata": {},
   "outputs": [
    {
     "name": "stdout",
     "output_type": "stream",
     "text": [
      "Hola mundo\n",
      "Hola mundo\n",
      "Hola mundo\n",
      "Hola mundo\n",
      "Hola mundo\n"
     ]
    }
   ],
   "source": [
    "# imprimir hola mundo 5 veces\n",
    "for iterador in range(5):\n",
    "    print(\"Hola mundo\")"
   ]
  },
  {
   "cell_type": "code",
   "execution_count": 54,
   "metadata": {},
   "outputs": [
    {
     "name": "stdout",
     "output_type": "stream",
     "text": [
      "manzanas\n",
      "bananas\n",
      "peras\n",
      "naranjas\n",
      "uvas\n"
     ]
    }
   ],
   "source": [
    "lista_frutas = [\"manzanas\", \"bananas\", \"peras\", \"naranjas\",\"uvas\"]\n",
    "\n",
    "for iterador in range(len(lista_frutas)):\n",
    "    print(lista_frutas[iterador])\n",
    "    "
   ]
  },
  {
   "cell_type": "code",
   "execution_count": 53,
   "metadata": {},
   "outputs": [
    {
     "name": "stdout",
     "output_type": "stream",
     "text": [
      "H\n",
      "o\n",
      "l\n",
      "a\n"
     ]
    }
   ],
   "source": [
    "mensaje = \"Hola\"\n",
    "\n",
    "for iterador in range(len(mensaje)):\n",
    "    print(mensaje[iterador])"
   ]
  },
  {
   "cell_type": "code",
   "execution_count": 57,
   "metadata": {},
   "outputs": [
    {
     "name": "stdout",
     "output_type": "stream",
     "text": [
      "manzanas\n",
      "bananas\n",
      "peras\n",
      "naranjas\n",
      "uvas\n"
     ]
    }
   ],
   "source": [
    "lista_frutas = [\"manzanas\", \"bananas\", \"peras\", \"naranjas\",\"uvas\"]\n",
    "for iterador in lista_frutas:\n",
    "    print(iterador)"
   ]
  },
  {
   "cell_type": "code",
   "execution_count": 59,
   "metadata": {},
   "outputs": [
    {
     "name": "stdout",
     "output_type": "stream",
     "text": [
      "False\n"
     ]
    }
   ],
   "source": [
    "# in y not in \n",
    "\n",
    "lista_frutas = [\"manzanas\", \"bananas\", \"peras\", \"naranjas\",\"uvas\"]\n",
    "\n",
    "resultado = \"manzana\" in lista_frutas\n",
    "print(resultado)"
   ]
  },
  {
   "cell_type": "code",
   "execution_count": 61,
   "metadata": {},
   "outputs": [
    {
     "name": "stdout",
     "output_type": "stream",
     "text": [
      "False\n"
     ]
    }
   ],
   "source": [
    "nombre = \"Martin\"\n",
    "\n",
    "print(\"m\" in nombre)"
   ]
  },
  {
   "cell_type": "code",
   "execution_count": null,
   "metadata": {},
   "outputs": [],
   "source": [
    "lista_frutas = [\"manzanas\", \"bananas\", \"peras\", \"naranjas\",\"uvas\"]\n",
    "for iterador in lista_frutas:\n",
    "    print(iterador)"
   ]
  },
  {
   "attachments": {},
   "cell_type": "markdown",
   "metadata": {},
   "source": [
    "### Challenge - 10min\n",
    "\n",
    "Escribir un programa que itere en un rango de 10 veces. Por cada iteracion multiplicar el iterador por dos e imprimir el resultado."
   ]
  },
  {
   "attachments": {},
   "cell_type": "markdown",
   "metadata": {},
   "source": [
    "# Solucion de Hugo 🐕‍🦺"
   ]
  },
  {
   "cell_type": "code",
   "execution_count": 62,
   "metadata": {},
   "outputs": [
    {
     "name": "stdout",
     "output_type": "stream",
     "text": [
      "0\n",
      "2\n",
      "4\n",
      "6\n",
      "8\n",
      "10\n",
      "12\n",
      "14\n",
      "16\n",
      "18\n",
      "20\n",
      "22\n",
      "24\n",
      "26\n",
      "28\n",
      "30\n",
      "32\n",
      "34\n",
      "36\n",
      "38\n"
     ]
    }
   ],
   "source": [
    "x = int(input(\"ingrese un numero entero \"))\n",
    "for x in range(x):\n",
    "    multiplicar = x * 2\n",
    "    print(multiplicar)"
   ]
  },
  {
   "cell_type": "code",
   "execution_count": 67,
   "metadata": {},
   "outputs": [
    {
     "name": "stdout",
     "output_type": "stream",
     "text": [
      "0\n",
      "Guau guau\n",
      "1\n",
      "Guau guau\n",
      "2\n",
      "Guau guau\n",
      "3\n",
      "Guau guau\n",
      "4\n",
      "Guau guau\n"
     ]
    }
   ],
   "source": [
    "for gatito in range(5):\n",
    "    print(gatito)\n",
    "    print(\"Guau guau\")\n",
    "\n"
   ]
  },
  {
   "cell_type": "code",
   "execution_count": 69,
   "metadata": {},
   "outputs": [
    {
     "name": "stdout",
     "output_type": "stream",
     "text": [
      "Mara\n",
      "David\n",
      "Guille\n",
      "Adam\n",
      "Noe\n",
      "Jean\n"
     ]
    }
   ],
   "source": [
    "lista_alumnos = [\"Mara\", \"David\", \"Guille\", \"Adam\", \"Noe\", \"Jean\"]\n",
    "\n",
    "for alumno in lista_alumnos:\n",
    "    print(alumno)"
   ]
  },
  {
   "attachments": {},
   "cell_type": "markdown",
   "metadata": {},
   "source": [
    "### Challenge 🤺 - 20m\n",
    "\n",
    "Escribir un programa en el que se pregunte al usuario por una frase y una letra, y muestre por pantalla el número de veces que aparece la letra en la frase.\n",
    "\n",
    "- Pedir al usuario una frase (input)\n",
    "\n",
    "- Guardar la frase ingresada en una variable\n",
    "\n",
    "- Pedir al usuario una letra\n",
    "\n",
    "- Iterar (en?) la frase letra por letra para encontrar la letra buscada\n",
    "\n",
    "- Contar cuantas veces aparece la letra en la frase\n",
    "\n",
    "- Imprimir el total"
   ]
  },
  {
   "attachments": {},
   "cell_type": "markdown",
   "metadata": {},
   "source": [
    "# Solucion de Jazmin 🌸"
   ]
  },
  {
   "cell_type": "code",
   "execution_count": 70,
   "metadata": {},
   "outputs": [
    {
     "name": "stdout",
     "output_type": "stream",
     "text": [
      "3\n"
     ]
    }
   ],
   "source": [
    "frase = input(\"ingrese una frase\")\n",
    "letra_seleccionada= input(\"ingrese una letra\")\n",
    "contador = 0\n",
    "\n",
    "for letra in frase: \n",
    "    if letra == letra_seleccionada:\n",
    "        contador += 1\n",
    "print(contador)"
   ]
  },
  {
   "attachments": {},
   "cell_type": "markdown",
   "metadata": {},
   "source": [
    "# Solucion de Andre 🌲"
   ]
  },
  {
   "cell_type": "code",
   "execution_count": 71,
   "metadata": {},
   "outputs": [
    {
     "name": "stdout",
     "output_type": "stream",
     "text": [
      "2\n"
     ]
    }
   ],
   "source": [
    "frase = input(\"Ingresa un frase de letra minuscula\")\n",
    "letra = input(\"Ingresa una letra minuscula\")\n",
    "\n",
    "count = 0\n",
    "\n",
    "for i in range(len(frase)):\n",
    "    if frase[i] == letra:\n",
    "        count += 1\n",
    "\n",
    "print(count)"
   ]
  },
  {
   "attachments": {},
   "cell_type": "markdown",
   "metadata": {},
   "source": [
    "# Wordle - Repaso\n",
    "\n",
    "- Variables\n",
    "- Tipos datos \n",
    "- Operacion con numero \n",
    "- Concatenacion \n",
    "- Funciones (parametros y argumento)\n",
    "- Condicionales (Control de flujo)\n",
    "- Bucles Condicionales\n",
    "- Bucles iterativos\n",
    "- Listas\n",
    "\n"
   ]
  },
  {
   "cell_type": "code",
   "execution_count": null,
   "metadata": {},
   "outputs": [],
   "source": [
    "# Variable\n",
    "nombre = \"martin\"\n",
    "letra = \"a\""
   ]
  },
  {
   "cell_type": "code",
   "execution_count": null,
   "metadata": {},
   "outputs": [],
   "source": [
    "# Tipos de datos\n",
    "\n",
    "# String (Texto - Cadena de caracteres)\n",
    "texto = \"lo que quieras\"\n",
    "\n",
    "# Numeros Enteros (int - Integer)\n",
    "integer = 4\n",
    "\n",
    "# Numeros decimales (float - Floating Numbers)\n",
    "number = 4.12\n",
    "\n",
    "# Booleanos (bool - Boolean)\n",
    "active = True # False\n",
    "\n"
   ]
  },
  {
   "cell_type": "code",
   "execution_count": 73,
   "metadata": {},
   "outputs": [
    {
     "name": "stdout",
     "output_type": "stream",
     "text": [
      "6\n"
     ]
    }
   ],
   "source": [
    "# Operaciones con numeros\n",
    "\n",
    "# Suma\n",
    "suma = 5 + 4\n",
    "# Resta\n",
    "resta = 6 - 2\n",
    "# Multiplicacion\n",
    "multiplicacion = 8 * 2\n",
    "# Division\n",
    "division = 13 / 2\n",
    "# Modulo\n",
    "modulo = 8 % 2 # Me devuelve el resto de una division\n",
    "\n",
    "# Division que devuelve un entero\n",
    "print(12//2)"
   ]
  },
  {
   "cell_type": "code",
   "execution_count": 77,
   "metadata": {},
   "outputs": [
    {
     "name": "stdout",
     "output_type": "stream",
     "text": [
      "Martin\n",
      "MartinMartinMartin\n"
     ]
    }
   ],
   "source": [
    "letra1 = \"M\"\n",
    "letra2 = \"a\"\n",
    "letra3 = \"r\"\n",
    "letra4 = \"t\"\n",
    "letra5 = \"i\"\n",
    "letra6 = \"n\"\n",
    "\n",
    "nombre = letra1 + letra2 + letra3 + letra4 + letra5 + letra6\n",
    "print(nombre)\n",
    "\n",
    "print(nombre * 3)"
   ]
  },
  {
   "cell_type": "code",
   "execution_count": 81,
   "metadata": {},
   "outputs": [
    {
     "name": "stdout",
     "output_type": "stream",
     "text": [
      "Coinciden h\n",
      "Coinciden l\n"
     ]
    }
   ],
   "source": [
    "# Operadores Logicos \n",
    "\n",
    "# ==, !=, >, <, >=, <=, and, or, not\n",
    "\n",
    "frase = \"hala\"\n",
    "letra = 'a'\n",
    "\n",
    "for i in frase:\n",
    "    if i != letra:\n",
    "        print(\"Coinciden\", i)"
   ]
  },
  {
   "cell_type": "code",
   "execution_count": null,
   "metadata": {},
   "outputs": [],
   "source": []
  }
 ],
 "metadata": {
  "kernelspec": {
   "display_name": "Python 3",
   "language": "python",
   "name": "python3"
  },
  "language_info": {
   "codemirror_mode": {
    "name": "ipython",
    "version": 3
   },
   "file_extension": ".py",
   "mimetype": "text/x-python",
   "name": "python",
   "nbconvert_exporter": "python",
   "pygments_lexer": "ipython3",
   "version": "3.11.3"
  },
  "orig_nbformat": 4
 },
 "nbformat": 4,
 "nbformat_minor": 2
}
