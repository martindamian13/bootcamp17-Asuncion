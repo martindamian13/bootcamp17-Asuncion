{
 "cells": [
  {
   "attachments": {},
   "cell_type": "markdown",
   "metadata": {},
   "source": [
    "# Dia 5 - Fundamentos"
   ]
  },
  {
   "attachments": {},
   "cell_type": "markdown",
   "metadata": {},
   "source": [
    "## Diccionarios"
   ]
  },
  {
   "cell_type": "code",
   "execution_count": 11,
   "metadata": {},
   "outputs": [
    {
     "name": "stdout",
     "output_type": "stream",
     "text": [
      "<class 'dict'>\n",
      "Quintana\n",
      "{'nombre': 'Martin', 'apellido': 'Quintana', 'edad': 24, 'direccion': 'Ciudad del Este'}\n",
      "{'nombre': 'Martin', 'apellido': 'Quintana', 'edad': 85, 'direccion': 'Ciudad del Este'}\n",
      "{'nombre': 'Martin', 'apellido': 'Quintana', 'edad': 85}\n",
      "{'nombre': 'Martin', 'edad': 85}\n"
     ]
    }
   ],
   "source": [
    "# Creamos un diccionario\n",
    "diccionario = {\"nombre\": \"Martin\", \"apellido\": \"Quintana\", \"edad\": 24}\n",
    "\n",
    "# Imprimimos el tipo de diccionario\n",
    "print(type(diccionario))\n",
    "\n",
    "# Recibo los valores usando las llaves\n",
    "print(diccionario[\"apellido\"])\n",
    "\n",
    "# Agregar valores nuevos\n",
    "diccionario[\"direccion\"] = \"Ciudad del Este\"\n",
    "print(diccionario)\n",
    "\n",
    "# Modificar un valor\n",
    "diccionario[\"edad\"] = 85\n",
    "print(diccionario)\n",
    "\n",
    "# Eliminar valores\n",
    "# Eliminar el ultimo conjunto de datos\n",
    "diccionario.popitem()\n",
    "print(diccionario)\n",
    "\n",
    "# Eliminar usando la llave\n",
    "del diccionario[\"apellido\"]\n",
    "print(diccionario)\n",
    "\n"
   ]
  },
  {
   "cell_type": "code",
   "execution_count": 14,
   "metadata": {},
   "outputs": [
    {
     "name": "stdout",
     "output_type": "stream",
     "text": [
      "dict_keys(['nombre', 'edad'])\n",
      "dict_values(['Martin', 85])\n",
      "dict_items([('nombre', 'Martin'), ('edad', 85)])\n"
     ]
    }
   ],
   "source": [
    "# Desplegar datos de un diccionario\n",
    "\n",
    "# Vemos las claves de un diccionario\n",
    "print(diccionario.keys())\n",
    "\n",
    "# Vemos solo los valores de un diccionario\n",
    "print(diccionario.values())\n",
    "\n",
    "# Vemos los items de los diccionarios\n",
    "print(diccionario.items())"
   ]
  },
  {
   "attachments": {},
   "cell_type": "markdown",
   "metadata": {},
   "source": [
    "## Challenge 1 \n",
    "Escribir un programa que cree un diccionario vacío y lo vaya llenando con información sobre una persona (por ejemplo nombre, edad, teléfono, correo electrónico, etc. pueden agregar lo que quieran) que se le pida al usuario. Cada vez que se añada un nuevo dato debe imprimirse el contenido del diccionario.\n"
   ]
  },
  {
   "attachments": {},
   "cell_type": "markdown",
   "metadata": {},
   "source": [
    "# Solucion de Myrian 🖤"
   ]
  },
  {
   "cell_type": "code",
   "execution_count": 15,
   "metadata": {},
   "outputs": [
    {
     "name": "stdout",
     "output_type": "stream",
     "text": [
      "{}\n",
      "{'Nombre': 'Myrian'}\n",
      "{'Nombre': 'Myrian', 'Apellido': 'Rodas'}\n",
      "{'Nombre': 'Myrian', 'Apellido': 'Rodas', 'Telefono': 'cualquier numero'}\n",
      "{'Nombre': 'Myrian', 'Apellido': 'Rodas', 'Telefono': 'cualquier numero', 'Correo': 'lo que sea'}\n"
     ]
    }
   ],
   "source": [
    "vacio = {}\n",
    "print(vacio)\n",
    "\n",
    "vacio [\"Nombre\"]= input(\"Ingrese su nombre\")\n",
    "print(vacio)\n",
    "\n",
    "vacio [\"Apellido\"]= input(\"Ingrese su apellido\")\n",
    "print(vacio)\n",
    "\n",
    "vacio [\"Telefono\"]= input(\"Ingrese su telefono\")\n",
    "print(vacio)\n",
    "\n",
    "vacio [\"Correo\"]= input(\"Ingrese su correo\")\n",
    "print(vacio)"
   ]
  },
  {
   "attachments": {},
   "cell_type": "markdown",
   "metadata": {},
   "source": [
    "# Solucion de Mara 🥶"
   ]
  },
  {
   "cell_type": "code",
   "execution_count": 16,
   "metadata": {},
   "outputs": [
    {
     "name": "stdout",
     "output_type": "stream",
     "text": [
      "{'nombre': 'Mara'}\n",
      "{'nombre': 'Mara', 'apellido': 'Parra'}\n",
      "{'nombre': 'Mara', 'apellido': 'Parra', 'edad': '21'}\n",
      "{'nombre': 'Mara', 'apellido': 'Parra', 'edad': '21', 'ciudad': 'Villa Elisa'}\n"
     ]
    }
   ],
   "source": [
    "infopersonal = {}\n",
    "\n",
    "def usuario (nombre,apellido,edad,ciudad):\n",
    "    infopersonal [\"nombre\"] = nombre\n",
    "    print(infopersonal)\n",
    "\n",
    "    infopersonal [\"apellido\"] = apellido\n",
    "    print(infopersonal)\n",
    "\n",
    "    infopersonal [\"edad\"] = edad\n",
    "    print(infopersonal)\n",
    "\n",
    "    infopersonal [\"ciudad\"] = ciudad\n",
    "    print(infopersonal)\n",
    "\n",
    "nombreusu = input(\"Ingrese su nombre:\")\n",
    "apellidousu = input(\"Ingrese su apellido:\")\n",
    "edadusu = input(\"Ingrese su edad:\")\n",
    "ciudadusu = input(\"Ingrese su ciudad:\")\n",
    "usuario(nombreusu,apellidousu,edadusu,ciudadusu)"
   ]
  },
  {
   "attachments": {},
   "cell_type": "markdown",
   "metadata": {},
   "source": [
    "# Solucion de Sophie 🌸"
   ]
  },
  {
   "cell_type": "code",
   "execution_count": 17,
   "metadata": {},
   "outputs": [
    {
     "name": "stdout",
     "output_type": "stream",
     "text": [
      "{'nombre': 'Martin'}\n",
      "{'nombre': 'Martin', 'apellido': 'Quintana'}\n",
      "{'nombre': 'Martin', 'apellido': 'Quintana', 'edad': '12'}\n",
      "{'nombre': 'Martin', 'apellido': 'Quintana', 'edad': '12', 'cumple ': 'ayer'}\n",
      "{'nombre': 'Martin', 'apellido': 'Quintana', 'edad': '12', 'cumple ': 'ayer'}\n"
     ]
    }
   ],
   "source": [
    "def funcion_diccionario():\n",
    "    diccionario ={}\n",
    "    dato_a_agregar = input('agrega un dato')\n",
    "    valor_del_dato= input(\"asignale un valor\")\n",
    "    for iterador in range(4):\n",
    "         diccionario[dato_a_agregar] = valor_del_dato\n",
    "         print(diccionario)\n",
    "         dato_a_agregar = input('agrega un dato')\n",
    "         valor_del_dato= input(\"asignale un valor\")\n",
    "    print(diccionario)\n",
    "\n",
    "funcion_diccionario()"
   ]
  },
  {
   "attachments": {},
   "cell_type": "markdown",
   "metadata": {},
   "source": [
    "# Solucion de Luis 🤓"
   ]
  },
  {
   "cell_type": "code",
   "execution_count": 21,
   "metadata": {},
   "outputs": [
    {
     "name": "stdout",
     "output_type": "stream",
     "text": [
      "{'Salir': 'hola'}\n",
      "{'Salir': 'hola', 'SALIR': 'hola'}\n",
      "Datos ingresados:\n",
      "Salir: hola\n",
      "SALIR: hola\n"
     ]
    }
   ],
   "source": [
    "datos = {}\n",
    "\n",
    "while True:\n",
    "    opcion = input(\"¿Qué dato deseas agregar? (Escribe 'salir' para terminar): \")\n",
    "\n",
    "    if opcion == 'salir':\n",
    "        break\n",
    "\n",
    "    dato = input((f\"Ingresa el valor para {opcion}: \"))\n",
    "    datos[opcion] = dato\n",
    "    print(datos)\n",
    "\n",
    "print(\"Datos ingresados:\")\n",
    "for clave, valor in datos.items():\n",
    "    print(f\"{clave}: {valor}\")"
   ]
  },
  {
   "cell_type": "code",
   "execution_count": 24,
   "metadata": {},
   "outputs": [
    {
     "name": "stdout",
     "output_type": "stream",
     "text": [
      "{'nombre': 'Martin'}\n",
      "{'nombre': 'Martin', 'apellido': 'Quintana'}\n"
     ]
    }
   ],
   "source": [
    "datos_de_la_persona = {}\n",
    "seguir_agregando = True\n",
    "\n",
    "while seguir_agregando:\n",
    "    clave = input(\"Indice del valor\")\n",
    "    valor = input(\"Valor\")\n",
    "    datos_de_la_persona[clave] = valor\n",
    "    print(datos_de_la_persona)\n",
    "\n",
    "    seguir_agregando = input(\"Quieres seguir agregando datos? (S/N)\") == \"S\""
   ]
  },
  {
   "attachments": {},
   "cell_type": "markdown",
   "metadata": {},
   "source": [
    "## Challenge 2 - 20m \n",
    " \n",
    "Crear una tarjeta personal. El usuario (mediante input) puede elegir:\n",
    "\n",
    "1. Crear datos nuevos\n",
    "2. Modificar datos\n",
    "3. Eliminar datos\n"
   ]
  },
  {
   "attachments": {},
   "cell_type": "markdown",
   "metadata": {},
   "source": [
    "### Pasos a seguir para una forma de resolver"
   ]
  },
  {
   "cell_type": "code",
   "execution_count": null,
   "metadata": {},
   "outputs": [],
   "source": [
    "# Crear una tarjeta personal (diccionario)\n",
    "\n",
    "# preguntar al usuario por una opcion\n",
    "\n",
    "# de acuerdo a la opcion \n",
    "# Agregar\n",
    "# Modificar\n",
    "# Eliminar\n",
    "\n",
    "# Buscar alguna forma de repetir el proceso"
   ]
  },
  {
   "attachments": {},
   "cell_type": "markdown",
   "metadata": {},
   "source": [
    "# Solucion de Emilio 🦎"
   ]
  },
  {
   "cell_type": "code",
   "execution_count": 26,
   "metadata": {},
   "outputs": [
    {
     "name": "stdout",
     "output_type": "stream",
     "text": [
      "Vamos a crear una base de datos a continuación.\n",
      "{'nombre': 'martin'}\n",
      "{}\n",
      "La opción  no esta disponible. Solo puedes Crear/Modificar/Eliminar\n",
      "La opción  no esta disponible. Solo puedes Crear/Modificar/Eliminar\n",
      "La opción  no esta disponible. Solo puedes Crear/Modificar/Eliminar\n",
      "La opción  no esta disponible. Solo puedes Crear/Modificar/Eliminar\n",
      "La opción  no esta disponible. Solo puedes Crear/Modificar/Eliminar\n",
      "La opción  no esta disponible. Solo puedes Crear/Modificar/Eliminar\n",
      "La opción  no esta disponible. Solo puedes Crear/Modificar/Eliminar\n",
      "La opción  no esta disponible. Solo puedes Crear/Modificar/Eliminar\n",
      "La opción  no esta disponible. Solo puedes Crear/Modificar/Eliminar\n",
      "La opción  no esta disponible. Solo puedes Crear/Modificar/Eliminar\n",
      "La opción  no esta disponible. Solo puedes Crear/Modificar/Eliminar\n"
     ]
    },
    {
     "ename": "KeyboardInterrupt",
     "evalue": "Interrupted by user",
     "output_type": "error",
     "traceback": [
      "\u001b[0;31m---------------------------------------------------------------------------\u001b[0m",
      "\u001b[0;31mKeyboardInterrupt\u001b[0m                         Traceback (most recent call last)",
      "Cell \u001b[0;32mIn[26], line 8\u001b[0m\n\u001b[1;32m      6\u001b[0m \u001b[39mwhile\u001b[39;00m accion\u001b[39m.\u001b[39mlower()\u001b[39m!=\u001b[39m\u001b[39m\"\u001b[39m\u001b[39mcrear\u001b[39m\u001b[39m\"\u001b[39m \u001b[39mand\u001b[39;00m accion\u001b[39m.\u001b[39mlower()\u001b[39m!=\u001b[39m\u001b[39m\"\u001b[39m\u001b[39mmodificar\u001b[39m\u001b[39m\"\u001b[39m \u001b[39mand\u001b[39;00m accion\u001b[39m.\u001b[39mlower()\u001b[39m!=\u001b[39m\u001b[39m\"\u001b[39m\u001b[39meliminar\u001b[39m\u001b[39m\"\u001b[39m:\n\u001b[1;32m      7\u001b[0m         \u001b[39mprint\u001b[39m(\u001b[39mf\u001b[39m\u001b[39m\"\u001b[39m\u001b[39mLa opción \u001b[39m\u001b[39m{\u001b[39;00maccion\u001b[39m}\u001b[39;00m\u001b[39m no esta disponible. Solo puedes Crear/Modificar/Eliminar\u001b[39m\u001b[39m\"\u001b[39m)\n\u001b[0;32m----> 8\u001b[0m         accion\u001b[39m=\u001b[39m\u001b[39minput\u001b[39;49m(\u001b[39m\"\u001b[39;49m\u001b[39mQue quieres hacer?Crear/Modificar/Eliminar?\u001b[39;49m\u001b[39m\"\u001b[39;49m)\n\u001b[1;32m      9\u001b[0m \u001b[39mif\u001b[39;00m accion\u001b[39m.\u001b[39mlower()\u001b[39m==\u001b[39m\u001b[39m\"\u001b[39m\u001b[39mcrear\u001b[39m\u001b[39m\"\u001b[39m \u001b[39mor\u001b[39;00m accion\u001b[39m.\u001b[39mlower()\u001b[39m==\u001b[39m\u001b[39m\"\u001b[39m\u001b[39mmodificar\u001b[39m\u001b[39m\"\u001b[39m:\n\u001b[1;32m     10\u001b[0m     clave\u001b[39m=\u001b[39m\u001b[39minput\u001b[39m(\u001b[39m\"\u001b[39m\u001b[39mIngrese el dato \u001b[39m\u001b[39m\"\u001b[39m)\n",
      "File \u001b[0;32m~/Library/Python/3.11/lib/python/site-packages/ipykernel/kernelbase.py:1191\u001b[0m, in \u001b[0;36mKernel.raw_input\u001b[0;34m(self, prompt)\u001b[0m\n\u001b[1;32m   1189\u001b[0m     msg \u001b[39m=\u001b[39m \u001b[39m\"\u001b[39m\u001b[39mraw_input was called, but this frontend does not support input requests.\u001b[39m\u001b[39m\"\u001b[39m\n\u001b[1;32m   1190\u001b[0m     \u001b[39mraise\u001b[39;00m StdinNotImplementedError(msg)\n\u001b[0;32m-> 1191\u001b[0m \u001b[39mreturn\u001b[39;00m \u001b[39mself\u001b[39;49m\u001b[39m.\u001b[39;49m_input_request(\n\u001b[1;32m   1192\u001b[0m     \u001b[39mstr\u001b[39;49m(prompt),\n\u001b[1;32m   1193\u001b[0m     \u001b[39mself\u001b[39;49m\u001b[39m.\u001b[39;49m_parent_ident[\u001b[39m\"\u001b[39;49m\u001b[39mshell\u001b[39;49m\u001b[39m\"\u001b[39;49m],\n\u001b[1;32m   1194\u001b[0m     \u001b[39mself\u001b[39;49m\u001b[39m.\u001b[39;49mget_parent(\u001b[39m\"\u001b[39;49m\u001b[39mshell\u001b[39;49m\u001b[39m\"\u001b[39;49m),\n\u001b[1;32m   1195\u001b[0m     password\u001b[39m=\u001b[39;49m\u001b[39mFalse\u001b[39;49;00m,\n\u001b[1;32m   1196\u001b[0m )\n",
      "File \u001b[0;32m~/Library/Python/3.11/lib/python/site-packages/ipykernel/kernelbase.py:1234\u001b[0m, in \u001b[0;36mKernel._input_request\u001b[0;34m(self, prompt, ident, parent, password)\u001b[0m\n\u001b[1;32m   1231\u001b[0m \u001b[39mexcept\u001b[39;00m \u001b[39mKeyboardInterrupt\u001b[39;00m:\n\u001b[1;32m   1232\u001b[0m     \u001b[39m# re-raise KeyboardInterrupt, to truncate traceback\u001b[39;00m\n\u001b[1;32m   1233\u001b[0m     msg \u001b[39m=\u001b[39m \u001b[39m\"\u001b[39m\u001b[39mInterrupted by user\u001b[39m\u001b[39m\"\u001b[39m\n\u001b[0;32m-> 1234\u001b[0m     \u001b[39mraise\u001b[39;00m \u001b[39mKeyboardInterrupt\u001b[39;00m(msg) \u001b[39mfrom\u001b[39;00m \u001b[39mNone\u001b[39;00m\n\u001b[1;32m   1235\u001b[0m \u001b[39mexcept\u001b[39;00m \u001b[39mException\u001b[39;00m:\n\u001b[1;32m   1236\u001b[0m     \u001b[39mself\u001b[39m\u001b[39m.\u001b[39mlog\u001b[39m.\u001b[39mwarning(\u001b[39m\"\u001b[39m\u001b[39mInvalid Message:\u001b[39m\u001b[39m\"\u001b[39m, exc_info\u001b[39m=\u001b[39m\u001b[39mTrue\u001b[39;00m)\n",
      "\u001b[0;31mKeyboardInterrupt\u001b[0m: Interrupted by user"
     ]
    }
   ],
   "source": [
    "print(\"Vamos a crear una base de datos a continuación.\")\n",
    "base_datos={}\n",
    "while True:\n",
    "    accion=input(\"Que quieres hacer?Crear/Modificar/Eliminar?\")\n",
    "    continuar=\"S\"\n",
    "    while accion.lower()!=\"crear\" and accion.lower()!=\"modificar\" and accion.lower()!=\"eliminar\":\n",
    "            print(f\"La opción {accion} no esta disponible. Solo puedes Crear/Modificar/Eliminar\")\n",
    "            accion=input(\"Que quieres hacer?Crear/Modificar/Eliminar?\")\n",
    "    if accion.lower()==\"crear\" or accion.lower()==\"modificar\":\n",
    "        clave=input(\"Ingrese el dato \")\n",
    "        valor=input(f\"Ingrese {clave}\")\n",
    "        base_datos[clave]=valor\n",
    "        print(base_datos)\n",
    "    else:\n",
    "        clave=input(\"Ingrese el dato que desea eliminar\")\n",
    "        del base_datos[clave]\n",
    "        print(base_datos)\n",
    "    continuar=input(\"Quieres seguir editando la base de datos? S/N\")\n",
    "    if continuar.lower == \"n\":\n",
    "        break\n",
    "print(f\"La base de datos final es\")\n",
    "print(base_datos)"
   ]
  },
  {
   "attachments": {},
   "cell_type": "markdown",
   "metadata": {},
   "source": [
    "## Challenge 2 - 20m \n",
    " \n",
    "Crear una tarjeta personal. El usuario (mediante input) puede elegir:\n",
    "\n",
    "1. Crear datos nuevos\n",
    "2. Modificar datos\n",
    "3. Eliminar datos"
   ]
  },
  {
   "cell_type": "code",
   "execution_count": 30,
   "metadata": {},
   "outputs": [
    {
     "name": "stdout",
     "output_type": "stream",
     "text": [
      "dict_keys(['nombre', 'apellido'])\n",
      "dict_keys(['nombre', 'apellido'])\n"
     ]
    },
    {
     "ename": "KeyboardInterrupt",
     "evalue": "Interrupted by user",
     "output_type": "error",
     "traceback": [
      "\u001b[0;31m---------------------------------------------------------------------------\u001b[0m",
      "\u001b[0;31mKeyboardInterrupt\u001b[0m                         Traceback (most recent call last)",
      "Cell \u001b[0;32mIn[30], line 21\u001b[0m\n\u001b[1;32m     19\u001b[0m     \u001b[39mprint\u001b[39m(tarjeta_personal\u001b[39m.\u001b[39mkeys())\n\u001b[1;32m     20\u001b[0m     clave \u001b[39m=\u001b[39m \u001b[39minput\u001b[39m()\n\u001b[0;32m---> 21\u001b[0m     valor \u001b[39m=\u001b[39m \u001b[39minput\u001b[39;49m()\n\u001b[1;32m     22\u001b[0m     modificar_datos(clave, valor)\n\u001b[1;32m     23\u001b[0m \u001b[39melif\u001b[39;00m opcion \u001b[39m==\u001b[39m \u001b[39m\"\u001b[39m\u001b[39m3\u001b[39m\u001b[39m\"\u001b[39m:\n",
      "File \u001b[0;32m~/Library/Python/3.11/lib/python/site-packages/ipykernel/kernelbase.py:1191\u001b[0m, in \u001b[0;36mKernel.raw_input\u001b[0;34m(self, prompt)\u001b[0m\n\u001b[1;32m   1189\u001b[0m     msg \u001b[39m=\u001b[39m \u001b[39m\"\u001b[39m\u001b[39mraw_input was called, but this frontend does not support input requests.\u001b[39m\u001b[39m\"\u001b[39m\n\u001b[1;32m   1190\u001b[0m     \u001b[39mraise\u001b[39;00m StdinNotImplementedError(msg)\n\u001b[0;32m-> 1191\u001b[0m \u001b[39mreturn\u001b[39;00m \u001b[39mself\u001b[39;49m\u001b[39m.\u001b[39;49m_input_request(\n\u001b[1;32m   1192\u001b[0m     \u001b[39mstr\u001b[39;49m(prompt),\n\u001b[1;32m   1193\u001b[0m     \u001b[39mself\u001b[39;49m\u001b[39m.\u001b[39;49m_parent_ident[\u001b[39m\"\u001b[39;49m\u001b[39mshell\u001b[39;49m\u001b[39m\"\u001b[39;49m],\n\u001b[1;32m   1194\u001b[0m     \u001b[39mself\u001b[39;49m\u001b[39m.\u001b[39;49mget_parent(\u001b[39m\"\u001b[39;49m\u001b[39mshell\u001b[39;49m\u001b[39m\"\u001b[39;49m),\n\u001b[1;32m   1195\u001b[0m     password\u001b[39m=\u001b[39;49m\u001b[39mFalse\u001b[39;49;00m,\n\u001b[1;32m   1196\u001b[0m )\n",
      "File \u001b[0;32m~/Library/Python/3.11/lib/python/site-packages/ipykernel/kernelbase.py:1234\u001b[0m, in \u001b[0;36mKernel._input_request\u001b[0;34m(self, prompt, ident, parent, password)\u001b[0m\n\u001b[1;32m   1231\u001b[0m \u001b[39mexcept\u001b[39;00m \u001b[39mKeyboardInterrupt\u001b[39;00m:\n\u001b[1;32m   1232\u001b[0m     \u001b[39m# re-raise KeyboardInterrupt, to truncate traceback\u001b[39;00m\n\u001b[1;32m   1233\u001b[0m     msg \u001b[39m=\u001b[39m \u001b[39m\"\u001b[39m\u001b[39mInterrupted by user\u001b[39m\u001b[39m\"\u001b[39m\n\u001b[0;32m-> 1234\u001b[0m     \u001b[39mraise\u001b[39;00m \u001b[39mKeyboardInterrupt\u001b[39;00m(msg) \u001b[39mfrom\u001b[39;00m \u001b[39mNone\u001b[39;00m\n\u001b[1;32m   1235\u001b[0m \u001b[39mexcept\u001b[39;00m \u001b[39mException\u001b[39;00m:\n\u001b[1;32m   1236\u001b[0m     \u001b[39mself\u001b[39m\u001b[39m.\u001b[39mlog\u001b[39m.\u001b[39mwarning(\u001b[39m\"\u001b[39m\u001b[39mInvalid Message:\u001b[39m\u001b[39m\"\u001b[39m, exc_info\u001b[39m=\u001b[39m\u001b[39mTrue\u001b[39;00m)\n",
      "\u001b[0;31mKeyboardInterrupt\u001b[0m: Interrupted by user"
     ]
    }
   ],
   "source": [
    "tarjeta_personal = {\"nombre\": \"Martin\", \"apellido\": \"Quintana\"}\n",
    "\n",
    "def crear_datos(clave, valor):\n",
    "    tarjeta_personal[clave] = valor\n",
    "\n",
    "def modificar_datos(clave, valor):\n",
    "    tarjeta_personal[clave] = valor\n",
    "\n",
    "def eliminar_datos(clave):\n",
    "    del tarjeta_personal[clave]\n",
    "\n",
    "opcion = input(\"Ingrese una opcion\")\n",
    "while True:\n",
    "    if opcion == \"1\":\n",
    "        clave = input()\n",
    "        valor = input()\n",
    "        crear_datos(clave, valor)\n",
    "    elif opcion == \"2\":\n",
    "        clave = input()\n",
    "        valor = input()\n",
    "        modificar_datos(clave, valor)\n",
    "    elif opcion == \"3\":\n",
    "        clave = input()\n",
    "        eliminar_datos(clave)\n",
    "    else:\n",
    "        print(\"opcion incorrecta\")\n",
    "        break\n",
    "    opcion = input(\"Ingrese una opcion\")\n",
    "print(tarjeta_personal)"
   ]
  },
  {
   "attachments": {},
   "cell_type": "markdown",
   "metadata": {},
   "source": [
    "## Challenge 3 🤺\n",
    "Crear una agenda de contactos. El usuario puede elegir:\n",
    "\n",
    "1. Mostrar los contactos\n",
    "2. Crear contacto\n",
    "3. Modificar datos del contacto"
   ]
  },
  {
   "cell_type": "code",
   "execution_count": 38,
   "metadata": {},
   "outputs": [
    {
     "ename": "TypeError",
     "evalue": "unhashable type: 'dict'",
     "output_type": "error",
     "traceback": [
      "\u001b[0;31m---------------------------------------------------------------------------\u001b[0m",
      "\u001b[0;31mTypeError\u001b[0m                                 Traceback (most recent call last)",
      "Cell \u001b[0;32mIn[38], line 5\u001b[0m\n\u001b[1;32m      2\u001b[0m contacto2 \u001b[39m=\u001b[39m {\u001b[39m\"\u001b[39m\u001b[39mnombre\u001b[39m\u001b[39m\"\u001b[39m:\u001b[39m\"\u001b[39m\u001b[39mDamian\u001b[39m\u001b[39m\"\u001b[39m, \u001b[39m\"\u001b[39m\u001b[39mapellido\u001b[39m\u001b[39m\"\u001b[39m:\u001b[39m\"\u001b[39m\u001b[39mBenitez\u001b[39m\u001b[39m\"\u001b[39m, \u001b[39m\"\u001b[39m\u001b[39mnumero\u001b[39m\u001b[39m\"\u001b[39m: \u001b[39m\"\u001b[39m\u001b[39m0973229057\u001b[39m\u001b[39m\"\u001b[39m}\n\u001b[1;32m      4\u001b[0m \u001b[39m# Crea el diccionario\u001b[39;00m\n\u001b[0;32m----> 5\u001b[0m agenda \u001b[39m=\u001b[39m {contacto1, contacto2}\n\u001b[1;32m      7\u001b[0m \u001b[39m# Agregar datos\u001b[39;00m\n\u001b[1;32m      8\u001b[0m agenda[contacto1[\u001b[39m\"\u001b[39m\u001b[39mnombre\u001b[39m\u001b[39m\"\u001b[39m]] \u001b[39m=\u001b[39m contacto1\n",
      "\u001b[0;31mTypeError\u001b[0m: unhashable type: 'dict'"
     ]
    }
   ],
   "source": [
    "contacto1 = {\"nombre\":\"Martin\", \"apellido\":\"Quintana\", \"numero\": \"a saber\"}\n",
    "contacto2 = {\"nombre\":\"Damian\", \"apellido\":\"Benitez\", \"numero\": \"0973229057\"}\n",
    "\n",
    "# Crea el diccionario\n",
    "agenda = {}\n",
    "\n",
    "# Agregar datos\n",
    "agenda[contacto1[\"nombre\"]] = contacto1\n",
    "agenda[contacto2[\"nombre\"]] = contacto2\n",
    "\n",
    "print(agenda)\n",
    "\n",
    "print(agenda['Martin'][\"numero\"])\n",
    "print(agenda[\"Damian\"][\"apellido\"])"
   ]
  },
  {
   "attachments": {},
   "cell_type": "markdown",
   "metadata": {},
   "source": [
    "# Programacion Orientada a Objetos (POO)\n",
    "\n",
    "## Object oriented programming (oop)"
   ]
  },
  {
   "attachments": {},
   "cell_type": "markdown",
   "metadata": {},
   "source": [
    "###  Atributos"
   ]
  },
  {
   "cell_type": "code",
   "execution_count": 47,
   "metadata": {},
   "outputs": [
    {
     "name": "stdout",
     "output_type": "stream",
     "text": [
      "Mi perro se llamaDousher y es un ChowChow\n",
      "Pompom\n",
      "4\n",
      "4\n"
     ]
    }
   ],
   "source": [
    "# Creamos una clase Mascota\n",
    "class Mascota():\n",
    "    # Asignamos los atributos de clase\n",
    "    ojos = 2\n",
    "    boca = 1\n",
    "    patas = 4\n",
    "\n",
    "    # Creamos un metodo de instancia para definir los atributos de instancia \n",
    "    def __init__(self, nombre, color, especie):\n",
    "        # Definimos los atributos de instancia\n",
    "        self.nombre = nombre\n",
    "        self.color = color\n",
    "        self.especie = especie\n",
    "\n",
    "\n",
    "\n",
    "# Instanciamos el objeto\n",
    "mi_perro = Mascota(\"Dousher\", \"Marron\", \"ChowChow\")\n",
    "mi_gato = Mascota(\"Pompom\", \"Blanco\", \"Persa\")\n",
    "\n",
    "# Imprimimos los atributos del objeto instanciado\n",
    "print(f\"Mi perro se llama {mi_perro.nombre} y es un {mi_perro.especie}\")\n",
    "print(mi_gato.nombre)\n",
    "\n",
    "print(mi_gato.patas)\n",
    "print(mi_perro.patas)\n",
    "\n",
    "\n",
    "\n",
    "\n",
    "\n"
   ]
  },
  {
   "attachments": {},
   "cell_type": "markdown",
   "metadata": {},
   "source": [
    "## Challenge \n",
    "\n",
    "Crear dos class de animales que tengan atributos de clase y de instancia.\n",
    "\n",
    "- Atributos de clase: `especie`.\n",
    "- Atributos de instancia: `nombre` & `color`.\n",
    "Luego, crear nuevos objetos a partir de las nuevas class. Imprimir el nombre y el color de los animales en una frase que diga: \"Me llamo `{nombre}` y soy un {especie} de color `{color}`\"."
   ]
  },
  {
   "attachments": {},
   "cell_type": "markdown",
   "metadata": {},
   "source": [
    "# Solucion de Guille 🥸"
   ]
  },
  {
   "cell_type": "code",
   "execution_count": 49,
   "metadata": {},
   "outputs": [
    {
     "name": "stdout",
     "output_type": "stream",
     "text": [
      "Me llamo Laika y soy un canis familiaris/perro de color Blanco y nací en la gran Union Soviética\n",
      "Me llamo Sergio y soy un pequeño pescadito de color Tornasolado y nado por las aguas del Mar Egeo\n"
     ]
    }
   ],
   "source": [
    "class Animal():\n",
    "    especie = \"canis familiaris/perro\"\n",
    "    ojos = 2\n",
    "    boca = 1\n",
    "    oidos = 2\n",
    "    patas = 4\n",
    "\n",
    "    def __init__ (self, nombre, color, lugar_d_nacimiento):\n",
    "        self.nombre = nombre\n",
    "        self.color = color\n",
    "        self.lugar_d_nacimiento = lugar_d_nacimiento\n",
    "\n",
    "\n",
    "mi_niña = Animal(\"Laika\", \"Blanco\", \"Union Soviética\") # Instanciando el objeto\n",
    "\n",
    "class Animal2():\n",
    "    especie = \"pescadito\"\n",
    "    ojos = 2\n",
    "    boca = 1\n",
    "\n",
    "    def __init__ (self, nombre, color, lugar_d_nacimiento):\n",
    "        self.nombre = nombre\n",
    "        self.color = color\n",
    "        self.lugar_d_nacimiento = lugar_d_nacimiento\n",
    "\n",
    "mi_niño= Animal2(\"Sergio\",\"Tornasolado\",\"Mar Egeo\")\n",
    "\n",
    "print(f\"Me llamo {mi_niña.nombre} y soy un {mi_niña.especie} de color {mi_niña.color} y nací en la gran {mi_niña.lugar_d_nacimiento}\")\n",
    "print(f\"Me llamo {mi_niño.nombre} y soy un pequeño {mi_niño.especie} de color {mi_niño.color} y nado por las aguas del {mi_niño.lugar_d_nacimiento}\")"
   ]
  },
  {
   "attachments": {},
   "cell_type": "markdown",
   "metadata": {},
   "source": [
    "# Solucion de Sara 🐠"
   ]
  },
  {
   "cell_type": "code",
   "execution_count": 50,
   "metadata": {},
   "outputs": [
    {
     "name": "stdout",
     "output_type": "stream",
     "text": [
      "Me llamo aisha y soy un perro color negro\n",
      "Me llamo hola y soy un loro color verde\n"
     ]
    }
   ],
   "source": [
    "class Perros():\n",
    "    patas = 4 \n",
    "    hocico = 1\n",
    "    cola = 1\n",
    "\n",
    "    def __init__(self, nombre, color):\n",
    "        self.nombre = nombre\n",
    "        self.color = color\n",
    "\n",
    "class Aves():\n",
    "    alas = 2 \n",
    "    pico = 1 \n",
    "    patas = 2 \n",
    "\n",
    "    def __init__(self, nombre, color):\n",
    "        self.nombre = nombre\n",
    "        self.color = color\n",
    "\n",
    "perrito = Perros ('aisha', 'negro')\n",
    "loro = Aves ('hola', 'verde')\n",
    "\n",
    "print(f\"Me llamo {perrito.nombre} y soy un perro color {perrito.color}\")\n",
    "print(f'Me llamo {loro.nombre} y soy un loro color {loro.color}')"
   ]
  },
  {
   "attachments": {},
   "cell_type": "markdown",
   "metadata": {},
   "source": [
    "### Metodos"
   ]
  },
  {
   "cell_type": "code",
   "execution_count": 57,
   "metadata": {},
   "outputs": [
    {
     "name": "stdout",
     "output_type": "stream",
     "text": [
      "Woof woof\n",
      "comi 1 kg de carne\n"
     ]
    }
   ],
   "source": [
    "class Mascota():\n",
    "    ojos = 2\n",
    "\n",
    "    def __init__(self, nombre):\n",
    "        self.nombre = nombre\n",
    "\n",
    "    def hablar(self):\n",
    "        print(\"Woof woof\")\n",
    "\n",
    "    def comer(self, peso, comida):\n",
    "        return (f\"comi {peso} kg de {comida}\")\n",
    "\n",
    "perro = Mascota(\"Dousher\")\n",
    "\n",
    "perro.hablar()\n",
    "\n",
    "print(perro.comer(1, \"carne\"))\n"
   ]
  },
  {
   "attachments": {},
   "cell_type": "markdown",
   "metadata": {},
   "source": [
    "## Challenge\n",
    "Crear dos métodos por animal, que sea hablar y moverse.\n",
    "\n",
    "En el método hablar, imprimir: \"Cuando hablo, digo X\".\n",
    "En el método mover, imprimir: \"Cuando me muevo, hago X\".\n",
    "\n",
    "X debe ser algo específico de ese animal"
   ]
  },
  {
   "attachments": {},
   "cell_type": "markdown",
   "metadata": {},
   "source": [
    "# Solucion de Jean 🩳"
   ]
  },
  {
   "cell_type": "code",
   "execution_count": 59,
   "metadata": {},
   "outputs": [
    {
     "name": "stdout",
     "output_type": "stream",
     "text": [
      "Me llamo Humbertito y soy un ave de color Negro\n",
      "Cuando hablo, digo Hoolas *en voz gruesa\n",
      "Cuando me muevo, hago tiki,tiki,tiki\n",
      "Me llamo Darla y soy un anfibio de color Verde\n",
      "Cuando hablo, digo Tssssssssssssssss\n",
      "Cuando me muevo, hago shakala silencioso\n"
     ]
    }
   ],
   "source": [
    "class Pajaro():\n",
    "    especie = \"ave\"\n",
    "    def __init__(self,nombre, color):\n",
    "        self.nombre = nombre\n",
    "        self.color = color\n",
    "    def hablar(self):\n",
    "        print(\"Cuando hablo, digo Hoolas *en voz gruesa\")\n",
    "\n",
    "    def mover(self):\n",
    "        print(\"Cuando me muevo, hago tiki,tiki,tiki\")\n",
    "\n",
    "cuervo = Pajaro (\"Humbertito\", \"Negro\")\n",
    "print(f\"Me llamo {cuervo.nombre} y soy un {cuervo.especie} de color {cuervo.color}\") \n",
    "cuervo.hablar()\n",
    "cuervo.mover()\n",
    "\n",
    "class Reptil ():\n",
    "    especie = \"anfibio\"\n",
    "    def __init__(self,nombre,color):\n",
    "        self.nombre = nombre\n",
    "        self.color = color \n",
    "    def hablar(self):\n",
    "        print(\"Cuando hablo, digo Tssssssssssssssss\")\n",
    "\n",
    "    def mover(self):\n",
    "        print(\"Cuando me muevo, hago shakala silencioso\")\n",
    "iguana =Reptil(\"Darla\",\"Verde\") \n",
    "print(f\"Me llamo {iguana.nombre} y soy un {iguana.especie} de color {iguana.color}\")\n",
    "iguana.hablar()\n",
    "iguana.mover()"
   ]
  },
  {
   "attachments": {},
   "cell_type": "markdown",
   "metadata": {},
   "source": [
    "# Solucion de Noelia 🧡"
   ]
  },
  {
   "cell_type": "code",
   "execution_count": 60,
   "metadata": {},
   "outputs": [
    {
     "name": "stdout",
     "output_type": "stream",
     "text": [
      "Mi perro se llama Rocko, cuando habla dice: auuuwwwww y le encanta correr muy rapido\n",
      "Mi tortuga se llama Pipo, cuando habla dice: assssuuuu y le encanta caminar leeeeeentoooouuuuuuuuuu\n"
     ]
    }
   ],
   "source": [
    "class Perro ():\n",
    "\n",
    "    def __init__(self, nombre,):\n",
    "        self.nombre = nombre\n",
    "    def hablar (self):\n",
    "        return(\"auuuwwwww\")\n",
    "    def mover (self):\n",
    "        return(\"muy rapido\")\n",
    "\n",
    "mi_perro = Perro (\"Rocko\") #instanciar\n",
    "\n",
    "class Tortuga ():\n",
    "\n",
    "    def __init__(self, nombre):\n",
    "        self.nombre = nombre\n",
    "\n",
    "    def hablar (self):\n",
    "        return(\"assssuuuu\")\n",
    "    def mover (self):\n",
    "        return (\"leeeeeentoooouuuuuuuuuu\")\n",
    "\n",
    "mi_tortuga = Tortuga (\"Pipo\") \n",
    "\n",
    "print(f\"Mi perro se llama {mi_perro.nombre}, cuando habla dice: {mi_perro.hablar()} y le encanta correr {mi_perro.mover()}\")\n",
    "print(f\"Mi tortuga se llama {mi_tortuga.nombre}, cuando habla dice: {mi_tortuga.hablar()} y le encanta caminar {mi_tortuga.mover()}\")"
   ]
  },
  {
   "attachments": {},
   "cell_type": "markdown",
   "metadata": {},
   "source": [
    "### Herencia"
   ]
  },
  {
   "cell_type": "code",
   "execution_count": 67,
   "metadata": {},
   "outputs": [
    {
     "name": "stdout",
     "output_type": "stream",
     "text": [
      "Hola soy un reptil\n",
      "OH+\n"
     ]
    }
   ],
   "source": [
    "# Creamos una clase \n",
    "class Reptil():\n",
    "    tipo_sangre = \"Fria\"\n",
    "\n",
    "    # Definimos el metodo de instancia para los atributos de instancia\n",
    "    def __init__(self, color, tamanho):\n",
    "        self.color = color\n",
    "        self.tamanho = tamanho\n",
    "    # Definimos un metodo\n",
    "    def hablar(self):\n",
    "        print(\"Hola soy un reptil\")\n",
    "\n",
    "# Creamos otra clase hija que herede los atributos y metodos de la clase madre\n",
    "class Serpiente(Reptil):\n",
    "    tipo_sangre = \"OH+\"\n",
    "    veneno = True\n",
    "\n",
    "\n",
    "\n",
    "\n",
    "# Instanciamos el objeto usando la clase hija\n",
    "vibora = Serpiente(\"verde\", \"pequeño\")\n",
    "# Vemos que hereda los metodos de la clase madre\n",
    "vibora.hablar()\n",
    "# Vemos que si cambiamos el atributo en la clase hija, prevalece la clase hija\n",
    "print(vibora.tipo_sangre)\n"
   ]
  },
  {
   "attachments": {},
   "cell_type": "markdown",
   "metadata": {},
   "source": [
    "## Challenge \n",
    "Definir una clase madre que herede a sus clases hijas dos atributos de instancia. Mostrar ambos atributos en pantalla desde los objetos de las clases hijas."
   ]
  },
  {
   "attachments": {},
   "cell_type": "markdown",
   "metadata": {},
   "source": [
    "# Solucion de Ivan 😄"
   ]
  },
  {
   "cell_type": "code",
   "execution_count": 69,
   "metadata": {},
   "outputs": [
    {
     "name": "stdout",
     "output_type": "stream",
     "text": [
      "Rosa Rodriguez Benitez tiene dos hijas una se llama Jessica Rodriguez y la otra Roja Rodriguez, de edades 20 y 25 respectivamente\n"
     ]
    }
   ],
   "source": [
    "class Madre():\n",
    "    apellido_sol = \"Benitez\"\n",
    "    # metodo de instancia\n",
    "    def __init__(self, nombre, apellido):\n",
    "        self.nombre = nombre\n",
    "        self.apellido = apellido\n",
    "\n",
    "class Hija_1(Madre):\n",
    "    edad = \"20\"\n",
    "\n",
    "class Hija_2(Madre):\n",
    "    edad = \"25\"\n",
    "\n",
    "a = \"Rodriguez\"\n",
    "hereda = madre(\"Rosa\", a)\n",
    "t = hija_1(\"Jessica\", a)\n",
    "r = hija_2(\"Roja\", a)\n",
    "\n",
    "\n",
    "print(f\"{hereda.nombre} {hereda.apellido} {hereda.apellido_sol} tiene dos hijas una se llama {t.nombre} {t.apellido} y la otra {r.nombre} {r.apellido}, de edades {t.edad} y {r.edad} respectivamente\")"
   ]
  },
  {
   "attachments": {},
   "cell_type": "markdown",
   "metadata": {},
   "source": [
    "# Solucion de Hugo 🍔"
   ]
  },
  {
   "cell_type": "code",
   "execution_count": 71,
   "metadata": {},
   "outputs": [
    {
     "name": "stdout",
     "output_type": "stream",
     "text": [
      "el color de la pantera es  negro\n",
      "la pantera es un cazador  silencioso\n",
      "el tamanho de la pantera es  gran tamanho\n",
      "el color del leopardo es  marron con manchas blancas y negras\n",
      "el leopardo es un cazador  rapido y silencioso\n",
      "el tamanho de leopardo es  mediano\n",
      "carnivoro\n"
     ]
    }
   ],
   "source": [
    "class Lobo():\n",
    "    tipo = \"carnivoro\"\n",
    "    def __init__(self, color, tamanho, cazador):\n",
    "        self.color = color\n",
    "        self.tamanho = tamanho\n",
    "        self.cazador = cazador\n",
    "\n",
    "class Pantera(Lobo):\n",
    "    lugar = \"bosques espesos\"\n",
    "pantera = Pantera(\"negro\", \"gran tamanho\", \"silencioso\")\n",
    "\n",
    "class Leopardo(Lobo):\n",
    "    lugar2 = \"planicies abiertas\"\n",
    "leopardo = Leopardo(\"marron con manchas blancas y negras\", \"mediano\", \"rapido y silencioso\")\n",
    "\n",
    "print(\"el color de la pantera es \", pantera.color)\n",
    "print(\"la pantera es un cazador \", pantera.cazador)\n",
    "print(\"el tamanho de la pantera es \", pantera.tamanho)\n",
    "\n",
    "print(\"el color del leopardo es \", leopardo.color)\n",
    "print(\"el leopardo es un cazador \", leopardo.cazador)\n",
    "print(\"el tamanho de leopardo es \", leopardo.tamanho)\n",
    "print(Lobo.tipo)"
   ]
  }
 ],
 "metadata": {
  "kernelspec": {
   "display_name": "Python 3",
   "language": "python",
   "name": "python3"
  },
  "language_info": {
   "codemirror_mode": {
    "name": "ipython",
    "version": 3
   },
   "file_extension": ".py",
   "mimetype": "text/x-python",
   "name": "python",
   "nbconvert_exporter": "python",
   "pygments_lexer": "ipython3",
   "version": "3.11.3"
  },
  "orig_nbformat": 4
 },
 "nbformat": 4,
 "nbformat_minor": 2
}
